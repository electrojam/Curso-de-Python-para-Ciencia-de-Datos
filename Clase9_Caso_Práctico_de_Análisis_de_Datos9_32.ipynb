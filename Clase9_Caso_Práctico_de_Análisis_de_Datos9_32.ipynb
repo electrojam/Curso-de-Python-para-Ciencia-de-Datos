{
  "nbformat": 4,
  "nbformat_minor": 0,
  "metadata": {
    "colab": {
      "provenance": [],
      "authorship_tag": "ABX9TyON5fE5UNVdl0EJ5hC+5aGV",
      "include_colab_link": true
    },
    "kernelspec": {
      "name": "python3",
      "display_name": "Python 3"
    },
    "language_info": {
      "name": "python"
    }
  },
  "cells": [
    {
      "cell_type": "markdown",
      "metadata": {
        "id": "view-in-github",
        "colab_type": "text"
      },
      "source": [
        "<a href=\"https://colab.research.google.com/github/electrojam/Curso-de-Python-para-Ciencia-de-Datos/blob/main/Clase9_Caso_Pr%C3%A1ctico_de_An%C3%A1lisis_de_Datos9_32.ipynb\" target=\"_parent\"><img src=\"https://colab.research.google.com/assets/colab-badge.svg\" alt=\"Open In Colab\"/></a>"
      ]
    },
    {
      "cell_type": "code",
      "execution_count": 1,
      "metadata": {
        "id": "Wfo1R4jiFx85"
      },
      "outputs": [],
      "source": [
        "import numpy as np"
      ]
    },
    {
      "cell_type": "code",
      "source": [
        "# Paso 1: Crear arrays con datos de ventas mensuales\n",
        "meses = np.array(['Enero', 'Febrero', 'Marzo', 'Abril', 'Mayo', 'Junio',\n",
        "                  'Julio', 'Agosto', 'Septiembre', 'Octubre', 'Noviembre', 'Diciembre'])\n",
        "ventas_A = np.array([150, 200, 250, 300, 220, 210, 180, 190, 230, 240, 280, 300])\n",
        "ventas_B = np.array([180, 210, 230, 250, 270, 260, 240, 250, 270, 290, 310, 330])\n",
        "ventas_C = np.array([200, 220, 240, 260, 280, 300, 320, 340, 360, 380, 400, 420])"
      ],
      "metadata": {
        "id": "qorTAJ0YFzvJ"
      },
      "execution_count": 2,
      "outputs": []
    },
    {
      "cell_type": "code",
      "source": [
        "# Venta de cada producto total\n",
        "total_ventas_A = np.sum(ventas_A)\n",
        "total_ventas_B = np.sum(ventas_B)\n",
        "total_ventas_C = np.sum(ventas_C)\n",
        "\n",
        "print(\"\\n La venta total de A es: \", total_ventas_A)\n",
        "print(\"\\n La venta total de B es: \", total_ventas_B)\n",
        "print(\"\\n La venta total de C es: \", total_ventas_C)"
      ],
      "metadata": {
        "colab": {
          "base_uri": "https://localhost:8080/"
        },
        "collapsed": true,
        "id": "8mammaA8Gpuq",
        "outputId": "8760db76-7879-45e0-8bb5-fe49a99e82e1"
      },
      "execution_count": 3,
      "outputs": [
        {
          "output_type": "stream",
          "name": "stdout",
          "text": [
            "\n",
            " La venta total de A es:  2750\n",
            "\n",
            " La venta total de B es:  3090\n",
            "\n",
            " La venta total de C es:  3720\n"
          ]
        }
      ]
    },
    {
      "cell_type": "code",
      "source": [
        "# Venta de cada mes\n",
        "mes_ventas_A = np.vstack((meses, ventas_A))\n",
        "mes_ventas_B = np.vstack((meses, ventas_B))\n",
        "mes_ventas_C = np.vstack((meses, ventas_C))\n",
        "\n",
        "print(f\"Ventas A mensuales: {mes_ventas_A}\")\n",
        "print(f\"Ventas B mensuales: {mes_ventas_B}\")\n",
        "print(f\"Ventas C mensuales: {mes_ventas_C}\")"
      ],
      "metadata": {
        "colab": {
          "base_uri": "https://localhost:8080/"
        },
        "id": "wUtjIWLAGDD6",
        "outputId": "3da8047a-250b-4d7f-a357-415cf11b94ae"
      },
      "execution_count": 4,
      "outputs": [
        {
          "output_type": "stream",
          "name": "stdout",
          "text": [
            "Ventas A mensuales: [['Enero' 'Febrero' 'Marzo' 'Abril' 'Mayo' 'Junio' 'Julio' 'Agosto'\n",
            "  'Septiembre' 'Octubre' 'Noviembre' 'Diciembre']\n",
            " ['150' '200' '250' '300' '220' '210' '180' '190' '230' '240' '280' '300']]\n",
            "Ventas B mensuales: [['Enero' 'Febrero' 'Marzo' 'Abril' 'Mayo' 'Junio' 'Julio' 'Agosto'\n",
            "  'Septiembre' 'Octubre' 'Noviembre' 'Diciembre']\n",
            " ['180' '210' '230' '250' '270' '260' '240' '250' '270' '290' '310' '330']]\n",
            "Ventas C mensuales: [['Enero' 'Febrero' 'Marzo' 'Abril' 'Mayo' 'Junio' 'Julio' 'Agosto'\n",
            "  'Septiembre' 'Octubre' 'Noviembre' 'Diciembre']\n",
            " ['200' '220' '240' '260' '280' '300' '320' '340' '360' '380' '400' '420']]\n"
          ]
        }
      ]
    },
    {
      "cell_type": "code",
      "source": [
        "# ventas mensuales invertidas de dic a ene\n",
        "inverted_ventas_A = ventas_A[::-1]\n",
        "inverted_ventas_B = ventas_B[::-1]\n",
        "inverted_ventas_C = ventas_C[::-1]\n",
        "print(inverted_ventas_A)\n",
        "print(inverted_ventas_B)\n",
        "print(inverted_ventas_C)"
      ],
      "metadata": {
        "colab": {
          "base_uri": "https://localhost:8080/"
        },
        "id": "uEezm-d-o20h",
        "outputId": "f029be8e-4906-4f4b-d6ba-8084083fd95a"
      },
      "execution_count": 9,
      "outputs": [
        {
          "output_type": "stream",
          "name": "stdout",
          "text": [
            "[300 280 240 230 190 180 210 220 300 250 200 150]\n",
            "[330 310 290 270 250 240 260 270 250 230 210 180]\n",
            "[420 400 380 360 340 320 300 280 260 240 220 200]\n"
          ]
        }
      ]
    }
  ]
}