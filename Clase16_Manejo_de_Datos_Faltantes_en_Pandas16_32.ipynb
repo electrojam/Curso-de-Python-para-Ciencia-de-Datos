{
  "nbformat": 4,
  "nbformat_minor": 0,
  "metadata": {
    "colab": {
      "provenance": [],
      "authorship_tag": "ABX9TyOzMv/aS1o318HPIQebIl1u",
      "include_colab_link": true
    },
    "kernelspec": {
      "name": "python3",
      "display_name": "Python 3"
    },
    "language_info": {
      "name": "python"
    }
  },
  "cells": [
    {
      "cell_type": "markdown",
      "metadata": {
        "id": "view-in-github",
        "colab_type": "text"
      },
      "source": [
        "<a href=\"https://colab.research.google.com/github/electrojam/Curso-de-Python-para-Ciencia-de-Datos/blob/main/Clase16_Manejo_de_Datos_Faltantes_en_Pandas16_32.ipynb\" target=\"_parent\"><img src=\"https://colab.research.google.com/assets/colab-badge.svg\" alt=\"Open In Colab\"/></a>"
      ]
    },
    {
      "cell_type": "code",
      "execution_count": 1,
      "metadata": {
        "id": "kNPRE-A6Lkze"
      },
      "outputs": [],
      "source": [
        "import pandas as pd"
      ]
    },
    {
      "cell_type": "code",
      "source": [
        "path = '/content/online_retail.csv'\n",
        "retail_data = pd.read_csv(path)"
      ],
      "metadata": {
        "id": "43TjgNgjvj5G"
      },
      "execution_count": 2,
      "outputs": []
    },
    {
      "cell_type": "markdown",
      "source": [
        "#### Verificación de datos faltantes"
      ],
      "metadata": {
        "id": "kL9wzrxKwrZp"
      }
    },
    {
      "cell_type": "code",
      "source": [
        "# miramos si hay datos faltantes en df\n",
        "missing_data = retail_data.isna()\n",
        "print(missing_data)"
      ],
      "metadata": {
        "colab": {
          "base_uri": "https://localhost:8080/"
        },
        "id": "UcL6UObjvrfl",
        "outputId": "cc81c1b8-ad72-4de1-800d-f99bf0f5a55a"
      },
      "execution_count": 4,
      "outputs": [
        {
          "output_type": "stream",
          "name": "stdout",
          "text": [
            "        InvoiceNo  StockCode  Description  Quantity  InvoiceDate  UnitPrice  \\\n",
            "0           False      False        False     False        False      False   \n",
            "1           False      False        False     False        False      False   \n",
            "2           False      False        False     False        False      False   \n",
            "3           False      False        False     False        False      False   \n",
            "4           False      False        False     False        False      False   \n",
            "...           ...        ...          ...       ...          ...        ...   \n",
            "541904      False      False        False     False        False      False   \n",
            "541905      False      False        False     False        False      False   \n",
            "541906      False      False        False     False        False      False   \n",
            "541907      False      False        False     False        False      False   \n",
            "541908      False      False        False     False        False      False   \n",
            "\n",
            "        CustomerID  Country  \n",
            "0            False    False  \n",
            "1            False    False  \n",
            "2            False    False  \n",
            "3            False    False  \n",
            "4            False    False  \n",
            "...            ...      ...  \n",
            "541904       False    False  \n",
            "541905       False    False  \n",
            "541906       False    False  \n",
            "541907       False    False  \n",
            "541908       False    False  \n",
            "\n",
            "[541909 rows x 8 columns]\n"
          ]
        }
      ]
    },
    {
      "cell_type": "code",
      "source": [
        "print(missing_data.head())"
      ],
      "metadata": {
        "colab": {
          "base_uri": "https://localhost:8080/"
        },
        "id": "F5bI7liCv0IG",
        "outputId": "f420279c-26bd-4190-e714-fcc3f9a65e79"
      },
      "execution_count": 5,
      "outputs": [
        {
          "output_type": "stream",
          "name": "stdout",
          "text": [
            "   InvoiceNo  StockCode  Description  Quantity  InvoiceDate  UnitPrice  \\\n",
            "0      False      False        False     False        False      False   \n",
            "1      False      False        False     False        False      False   \n",
            "2      False      False        False     False        False      False   \n",
            "3      False      False        False     False        False      False   \n",
            "4      False      False        False     False        False      False   \n",
            "\n",
            "   CustomerID  Country  \n",
            "0       False    False  \n",
            "1       False    False  \n",
            "2       False    False  \n",
            "3       False    False  \n",
            "4       False    False  \n"
          ]
        }
      ]
    },
    {
      "cell_type": "code",
      "source": [
        "# contamos datos faltantes por columnas\n",
        "missing_data_count = retail_data.isna().sum()\n",
        "print('Conteo de datos faltantes por columna:\\n', missing_data_count)"
      ],
      "metadata": {
        "colab": {
          "base_uri": "https://localhost:8080/"
        },
        "id": "A7Ij9eLKwC_W",
        "outputId": "03bc51c7-cf26-4971-8a9a-ce1638d0881d"
      },
      "execution_count": 7,
      "outputs": [
        {
          "output_type": "stream",
          "name": "stdout",
          "text": [
            "Conteo de datos faltantes por columna:\n",
            " InvoiceNo           0\n",
            "StockCode           0\n",
            "Description      1454\n",
            "Quantity            0\n",
            "InvoiceDate         0\n",
            "UnitPrice           0\n",
            "CustomerID     135080\n",
            "Country             0\n",
            "dtype: int64\n"
          ]
        }
      ]
    },
    {
      "cell_type": "markdown",
      "source": [
        "#### Primera opción Eliminación de filas con datos faltantes"
      ],
      "metadata": {
        "id": "8jWpo_k2wm__"
      }
    },
    {
      "cell_type": "code",
      "source": [
        "no_missing_rows = retail_data.dropna()\n",
        "print('Data sin filas con valores faltantes: \\n', no_missing_rows)"
      ],
      "metadata": {
        "colab": {
          "base_uri": "https://localhost:8080/"
        },
        "id": "nQdsnb5ywSAW",
        "outputId": "5b65fa03-326c-4181-9055-6e79cff3d524"
      },
      "execution_count": 8,
      "outputs": [
        {
          "output_type": "stream",
          "name": "stdout",
          "text": [
            "Data sin filas con valores faltantes: \n",
            "        InvoiceNo StockCode                          Description  Quantity  \\\n",
            "0         536365    85123A   WHITE HANGING HEART T-LIGHT HOLDER         6   \n",
            "1         536365     71053                  WHITE METAL LANTERN         6   \n",
            "2         536365    84406B       CREAM CUPID HEARTS COAT HANGER         8   \n",
            "3         536365    84029G  KNITTED UNION FLAG HOT WATER BOTTLE         6   \n",
            "4         536365    84029E       RED WOOLLY HOTTIE WHITE HEART.         6   \n",
            "...          ...       ...                                  ...       ...   \n",
            "541904    581587     22613          PACK OF 20 SPACEBOY NAPKINS        12   \n",
            "541905    581587     22899         CHILDREN'S APRON DOLLY GIRL          6   \n",
            "541906    581587     23254        CHILDRENS CUTLERY DOLLY GIRL          4   \n",
            "541907    581587     23255      CHILDRENS CUTLERY CIRCUS PARADE         4   \n",
            "541908    581587     22138        BAKING SET 9 PIECE RETROSPOT          3   \n",
            "\n",
            "            InvoiceDate  UnitPrice  CustomerID         Country  \n",
            "0        12/1/2010 8:26       2.55     17850.0  United Kingdom  \n",
            "1        12/1/2010 8:26       3.39     17850.0  United Kingdom  \n",
            "2        12/1/2010 8:26       2.75     17850.0  United Kingdom  \n",
            "3        12/1/2010 8:26       3.39     17850.0  United Kingdom  \n",
            "4        12/1/2010 8:26       3.39     17850.0  United Kingdom  \n",
            "...                 ...        ...         ...             ...  \n",
            "541904  12/9/2011 12:50       0.85     12680.0          France  \n",
            "541905  12/9/2011 12:50       2.10     12680.0          France  \n",
            "541906  12/9/2011 12:50       4.15     12680.0          France  \n",
            "541907  12/9/2011 12:50       4.15     12680.0          France  \n",
            "541908  12/9/2011 12:50       4.95     12680.0          France  \n",
            "\n",
            "[406829 rows x 8 columns]\n"
          ]
        }
      ]
    },
    {
      "cell_type": "markdown",
      "source": [
        "#### Segunda opción Elminación de columnas con datos faltantes"
      ],
      "metadata": {
        "id": "jAisRkC8xHQ4"
      }
    },
    {
      "cell_type": "code",
      "source": [
        "# eliminamos columnas axis=1 con datos faltantes\n",
        "no_missing_columns = retail_data.dropna(axis=1)\n",
        "print('Data sin columnas con valores faltantes: \\n\\n', no_missing_columns)"
      ],
      "metadata": {
        "colab": {
          "base_uri": "https://localhost:8080/"
        },
        "id": "f45_u2Vow7eA",
        "outputId": "d4fbe256-2219-42c7-891b-59138b565ee4"
      },
      "execution_count": 9,
      "outputs": [
        {
          "output_type": "stream",
          "name": "stdout",
          "text": [
            "Data sin columnas con valores faltantes: \n",
            "\n",
            "        InvoiceNo StockCode  Quantity      InvoiceDate  UnitPrice  \\\n",
            "0         536365    85123A         6   12/1/2010 8:26       2.55   \n",
            "1         536365     71053         6   12/1/2010 8:26       3.39   \n",
            "2         536365    84406B         8   12/1/2010 8:26       2.75   \n",
            "3         536365    84029G         6   12/1/2010 8:26       3.39   \n",
            "4         536365    84029E         6   12/1/2010 8:26       3.39   \n",
            "...          ...       ...       ...              ...        ...   \n",
            "541904    581587     22613        12  12/9/2011 12:50       0.85   \n",
            "541905    581587     22899         6  12/9/2011 12:50       2.10   \n",
            "541906    581587     23254         4  12/9/2011 12:50       4.15   \n",
            "541907    581587     23255         4  12/9/2011 12:50       4.15   \n",
            "541908    581587     22138         3  12/9/2011 12:50       4.95   \n",
            "\n",
            "               Country  \n",
            "0       United Kingdom  \n",
            "1       United Kingdom  \n",
            "2       United Kingdom  \n",
            "3       United Kingdom  \n",
            "4       United Kingdom  \n",
            "...                ...  \n",
            "541904          France  \n",
            "541905          France  \n",
            "541906          France  \n",
            "541907          France  \n",
            "541908          France  \n",
            "\n",
            "[541909 rows x 6 columns]\n"
          ]
        }
      ]
    },
    {
      "cell_type": "markdown",
      "source": [
        "#### Tercera opción rellenar datos faltantes con 0 ceros"
      ],
      "metadata": {
        "id": "-ZyVZ04bxtXC"
      }
    },
    {
      "cell_type": "code",
      "source": [
        "retail_data_filler_zeros = retail_data.fillna(0)  # llenamos datos null con 0\n",
        "retail_data_filler_zeros_count = retail_data_filler_zeros.isna().sum()  # contamos datos null o faltantes\n",
        "print(retail_data_filler_zeros)\n",
        "print('='*20)\n",
        "print('Cantidad de datos nullos: \\n', retail_data_filler_zeros_count)"
      ],
      "metadata": {
        "colab": {
          "base_uri": "https://localhost:8080/"
        },
        "id": "-VWyZL5fxfvo",
        "outputId": "d6bdda6b-18bb-439e-d5ec-e2d40dbb9a49"
      },
      "execution_count": 13,
      "outputs": [
        {
          "output_type": "stream",
          "name": "stdout",
          "text": [
            "       InvoiceNo StockCode                          Description  Quantity  \\\n",
            "0         536365    85123A   WHITE HANGING HEART T-LIGHT HOLDER         6   \n",
            "1         536365     71053                  WHITE METAL LANTERN         6   \n",
            "2         536365    84406B       CREAM CUPID HEARTS COAT HANGER         8   \n",
            "3         536365    84029G  KNITTED UNION FLAG HOT WATER BOTTLE         6   \n",
            "4         536365    84029E       RED WOOLLY HOTTIE WHITE HEART.         6   \n",
            "...          ...       ...                                  ...       ...   \n",
            "541904    581587     22613          PACK OF 20 SPACEBOY NAPKINS        12   \n",
            "541905    581587     22899         CHILDREN'S APRON DOLLY GIRL          6   \n",
            "541906    581587     23254        CHILDRENS CUTLERY DOLLY GIRL          4   \n",
            "541907    581587     23255      CHILDRENS CUTLERY CIRCUS PARADE         4   \n",
            "541908    581587     22138        BAKING SET 9 PIECE RETROSPOT          3   \n",
            "\n",
            "            InvoiceDate  UnitPrice  CustomerID         Country  \n",
            "0        12/1/2010 8:26       2.55     17850.0  United Kingdom  \n",
            "1        12/1/2010 8:26       3.39     17850.0  United Kingdom  \n",
            "2        12/1/2010 8:26       2.75     17850.0  United Kingdom  \n",
            "3        12/1/2010 8:26       3.39     17850.0  United Kingdom  \n",
            "4        12/1/2010 8:26       3.39     17850.0  United Kingdom  \n",
            "...                 ...        ...         ...             ...  \n",
            "541904  12/9/2011 12:50       0.85     12680.0          France  \n",
            "541905  12/9/2011 12:50       2.10     12680.0          France  \n",
            "541906  12/9/2011 12:50       4.15     12680.0          France  \n",
            "541907  12/9/2011 12:50       4.15     12680.0          France  \n",
            "541908  12/9/2011 12:50       4.95     12680.0          France  \n",
            "\n",
            "[541909 rows x 8 columns]\n",
            "====================\n",
            "Cantidad de datos nullos: \n",
            " InvoiceNo      0\n",
            "StockCode      0\n",
            "Description    0\n",
            "Quantity       0\n",
            "InvoiceDate    0\n",
            "UnitPrice      0\n",
            "CustomerID     0\n",
            "Country        0\n",
            "dtype: int64\n"
          ]
        }
      ]
    },
    {
      "cell_type": "markdown",
      "source": [
        "#### Cuarta opción aplicar la media de la columnas a los datos faltantes null"
      ],
      "metadata": {
        "id": "ETMoo2EMy2gz"
      }
    },
    {
      "cell_type": "code",
      "source": [
        "mean_unit_price = retail_data['UnitPrice'].mean() # calcula media de columna UnitPrice\n",
        "retail_data_filled_mean = retail_data['UnitPrice'].fillna(mean_unit_price)  #llenamos con media valore null de UnitPrice\n",
        "print(retail_data_filled_mean)\n",
        "print('='*50)\n",
        "print(retail_data_filled_mean.isna().sum())"
      ],
      "metadata": {
        "colab": {
          "base_uri": "https://localhost:8080/"
        },
        "id": "u9txyr_Bx8vn",
        "outputId": "3cba1906-785f-4a5b-955d-1c7e4a451139"
      },
      "execution_count": 16,
      "outputs": [
        {
          "output_type": "stream",
          "name": "stdout",
          "text": [
            "0         2.55\n",
            "1         3.39\n",
            "2         2.75\n",
            "3         3.39\n",
            "4         3.39\n",
            "          ... \n",
            "541904    0.85\n",
            "541905    2.10\n",
            "541906    4.15\n",
            "541907    4.15\n",
            "541908    4.95\n",
            "Name: UnitPrice, Length: 541909, dtype: float64\n",
            "==================================================\n",
            "0\n"
          ]
        }
      ]
    },
    {
      "cell_type": "code",
      "source": [],
      "metadata": {
        "id": "pn5F87jUzwjb"
      },
      "execution_count": null,
      "outputs": []
    }
  ]
}