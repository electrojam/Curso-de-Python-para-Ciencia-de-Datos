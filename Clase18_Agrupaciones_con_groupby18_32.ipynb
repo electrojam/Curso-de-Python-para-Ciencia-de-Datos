{
  "nbformat": 4,
  "nbformat_minor": 0,
  "metadata": {
    "colab": {
      "provenance": [],
      "authorship_tag": "ABX9TyO8MwWgrHgqy0cyqBbo7B3i",
      "include_colab_link": true
    },
    "kernelspec": {
      "name": "python3",
      "display_name": "Python 3"
    },
    "language_info": {
      "name": "python"
    }
  },
  "cells": [
    {
      "cell_type": "markdown",
      "metadata": {
        "id": "view-in-github",
        "colab_type": "text"
      },
      "source": [
        "<a href=\"https://colab.research.google.com/github/electrojam/Curso-de-Python-para-Ciencia-de-Datos/blob/main/Clase18_Agrupaciones_con_groupby18_32.ipynb\" target=\"_parent\"><img src=\"https://colab.research.google.com/assets/colab-badge.svg\" alt=\"Open In Colab\"/></a>"
      ]
    },
    {
      "cell_type": "code",
      "execution_count": 1,
      "metadata": {
        "id": "5MqH6Uew-PS5"
      },
      "outputs": [],
      "source": [
        "import pandas as pd"
      ]
    },
    {
      "cell_type": "code",
      "source": [
        "path = '/content/online_retail.csv'\n",
        "df = pd.read_csv(path)"
      ],
      "metadata": {
        "id": "00LzNy1b-ScW"
      },
      "execution_count": 3,
      "outputs": []
    },
    {
      "cell_type": "markdown",
      "source": [
        "### Groupby"
      ],
      "metadata": {
        "id": "Y3gaJZgP-tu7"
      }
    },
    {
      "cell_type": "code",
      "source": [
        "# frecuencia de datos de col Country\n",
        "country_counts = df['Country'].value_counts()\n",
        "print(country_counts)"
      ],
      "metadata": {
        "colab": {
          "base_uri": "https://localhost:8080/"
        },
        "id": "OVjuXmYR-sKn",
        "outputId": "4bf55010-2eb6-4afc-d45b-511c138e9909"
      },
      "execution_count": 4,
      "outputs": [
        {
          "output_type": "stream",
          "name": "stdout",
          "text": [
            "Country\n",
            "United Kingdom          495478\n",
            "Germany                   9495\n",
            "France                    8557\n",
            "EIRE                      8196\n",
            "Spain                     2533\n",
            "Netherlands               2371\n",
            "Belgium                   2069\n",
            "Switzerland               2002\n",
            "Portugal                  1519\n",
            "Australia                 1259\n",
            "Norway                    1086\n",
            "Italy                      803\n",
            "Channel Islands            758\n",
            "Finland                    695\n",
            "Cyprus                     622\n",
            "Sweden                     462\n",
            "Unspecified                446\n",
            "Austria                    401\n",
            "Denmark                    389\n",
            "Japan                      358\n",
            "Poland                     341\n",
            "Israel                     297\n",
            "USA                        291\n",
            "Hong Kong                  288\n",
            "Singapore                  229\n",
            "Iceland                    182\n",
            "Canada                     151\n",
            "Greece                     146\n",
            "Malta                      127\n",
            "United Arab Emirates        68\n",
            "European Community          61\n",
            "RSA                         58\n",
            "Lebanon                     45\n",
            "Lithuania                   35\n",
            "Brazil                      32\n",
            "Czech Republic              30\n",
            "Bahrain                     19\n",
            "Saudi Arabia                10\n",
            "Name: count, dtype: int64\n"
          ]
        }
      ]
    },
    {
      "cell_type": "code",
      "source": [
        "# Agrupamos por Country para calcular la suma total de la columna Quantity\n",
        "country_group = df.groupby('Country')['Quantity'].sum()\n",
        "print(country_group)"
      ],
      "metadata": {
        "colab": {
          "base_uri": "https://localhost:8080/"
        },
        "id": "VKkHtH_G-_sG",
        "outputId": "c41f435d-4fda-4e79-91b3-a0590ddd2c5a"
      },
      "execution_count": 5,
      "outputs": [
        {
          "output_type": "stream",
          "name": "stdout",
          "text": [
            "Country\n",
            "Australia                 83653\n",
            "Austria                    4827\n",
            "Bahrain                     260\n",
            "Belgium                   23152\n",
            "Brazil                      356\n",
            "Canada                     2763\n",
            "Channel Islands            9479\n",
            "Cyprus                     6317\n",
            "Czech Republic              592\n",
            "Denmark                    8188\n",
            "EIRE                     142637\n",
            "European Community          497\n",
            "Finland                   10666\n",
            "France                   110480\n",
            "Germany                  117448\n",
            "Greece                     1556\n",
            "Hong Kong                  4769\n",
            "Iceland                    2458\n",
            "Israel                     4353\n",
            "Italy                      7999\n",
            "Japan                     25218\n",
            "Lebanon                     386\n",
            "Lithuania                   652\n",
            "Malta                       944\n",
            "Netherlands              200128\n",
            "Norway                    19247\n",
            "Poland                     3653\n",
            "Portugal                  16180\n",
            "RSA                         352\n",
            "Saudi Arabia                 75\n",
            "Singapore                  5234\n",
            "Spain                     26824\n",
            "Sweden                    35637\n",
            "Switzerland               30325\n",
            "USA                        1034\n",
            "United Arab Emirates        982\n",
            "United Kingdom          4263829\n",
            "Unspecified                3300\n",
            "Name: Quantity, dtype: int64\n"
          ]
        }
      ]
    },
    {
      "cell_type": "code",
      "source": [
        "# Agrupamos por Country, y calculamos la media y la suma total de UnitPrice, es decir...\n",
        "# Calculamos la media y suma total de los precios unitarios por país\n",
        "country_stats = df.groupby('Country')['UnitPrice'].agg(['mean', 'sum'])\n",
        "print(country_stats)"
      ],
      "metadata": {
        "colab": {
          "base_uri": "https://localhost:8080/"
        },
        "id": "pKRV0D43_tr4",
        "outputId": "10f26fda-2abe-45cd-d726-a954ebf13c00"
      },
      "execution_count": 8,
      "outputs": [
        {
          "output_type": "stream",
          "name": "stdout",
          "text": [
            "                            mean          sum\n",
            "Country                                      \n",
            "Australia               3.220612     4054.750\n",
            "Austria                 4.243192     1701.520\n",
            "Bahrain                 4.556316       86.570\n",
            "Belgium                 3.644335     7540.130\n",
            "Brazil                  4.456250      142.600\n",
            "Canada                  6.030331      910.580\n",
            "Channel Islands         4.932124     3738.550\n",
            "Cyprus                  6.302363     3920.070\n",
            "Czech Republic          2.938333       88.150\n",
            "Denmark                 3.256941     1266.950\n",
            "EIRE                    5.911077    48447.190\n",
            "European Community      4.820492      294.050\n",
            "Finland                 5.448705     3786.850\n",
            "France                  5.028864    43031.990\n",
            "Germany                 3.966930    37666.000\n",
            "Greece                  4.885548      713.290\n",
            "Hong Kong              42.505208    12241.500\n",
            "Iceland                 2.644011      481.210\n",
            "Israel                  3.633131     1079.040\n",
            "Italy                   4.831121     3879.390\n",
            "Japan                   2.276145      814.860\n",
            "Lebanon                 5.387556      242.440\n",
            "Lithuania               2.841143       99.440\n",
            "Malta                   5.244173      666.010\n",
            "Netherlands             2.738317     6492.550\n",
            "Norway                  6.012026     6529.060\n",
            "Poland                  4.170880     1422.270\n",
            "Portugal                8.582976    13037.540\n",
            "RSA                     4.277586      248.100\n",
            "Saudi Arabia            2.411000       24.110\n",
            "Singapore             109.645808    25108.890\n",
            "Spain                   4.987544    12633.450\n",
            "Sweden                  3.910887     1806.830\n",
            "Switzerland             3.403442     6813.690\n",
            "USA                     2.216426      644.980\n",
            "United Arab Emirates    3.380735      229.890\n",
            "United Kingdom          4.532422  2245715.474\n",
            "Unspecified             2.699574     1204.010\n"
          ]
        }
      ]
    },
    {
      "cell_type": "code",
      "source": [
        "# Agrupación múltiple\n",
        "# Agrupamos por col Country y StockCode, y calculamos la suma total de Quantity\n",
        "country_stock_group = df.groupby(['Country', 'StockCode'])['Quantity'].sum()\n",
        "print(country_stock_group)"
      ],
      "metadata": {
        "colab": {
          "base_uri": "https://localhost:8080/"
        },
        "id": "WxpY7lRNAoz5",
        "outputId": "ef1954ec-2b0f-4220-b856-a3f16f81bf22"
      },
      "execution_count": 9,
      "outputs": [
        {
          "output_type": "stream",
          "name": "stdout",
          "text": [
            "Country      StockCode\n",
            "Australia    15036        600\n",
            "             15056BL        3\n",
            "             16161P       400\n",
            "             16169E        25\n",
            "             20665          6\n",
            "                         ... \n",
            "Unspecified  85180A         2\n",
            "             85180B         1\n",
            "             85212         12\n",
            "             85213         12\n",
            "             85227         10\n",
            "Name: Quantity, Length: 19839, dtype: int64\n"
          ]
        }
      ]
    },
    {
      "cell_type": "code",
      "source": [
        "# Agrupamos y le aplicamos una función definida a esa agrupación\n",
        "\n",
        "# Función que toma agrupación por Country, multiplica Quantity * UnitPrice y los suma por Country paises\n",
        "def total_revenue(group):\n",
        "  return ((group['Quantity'] * group['UnitPrice']).sum())\n",
        "\n",
        "# Agrupamos por Country, y le aplicamos función total_revenue\n",
        "revenue_per_country = df.groupby('Country').apply(total_revenue)\n",
        "print(revenue_per_country.head(10))\n"
      ],
      "metadata": {
        "colab": {
          "base_uri": "https://localhost:8080/"
        },
        "id": "h7gTZMYlB664",
        "outputId": "5b2ebb28-dc77-4d17-ae87-6bf38f5486dd"
      },
      "execution_count": 10,
      "outputs": [
        {
          "output_type": "stream",
          "name": "stdout",
          "text": [
            "Country\n",
            "Australia          137077.27\n",
            "Austria             10154.32\n",
            "Bahrain               548.40\n",
            "Belgium             40910.96\n",
            "Brazil               1143.60\n",
            "Canada               3666.38\n",
            "Channel Islands     20086.29\n",
            "Cyprus              12946.29\n",
            "Czech Republic        707.72\n",
            "Denmark             18768.14\n",
            "dtype: float64\n"
          ]
        }
      ]
    },
    {
      "cell_type": "markdown",
      "source": [
        "### Ejercicio\n",
        "- ¿Cual es el top 3 de mejores países en ventas?\n",
        "- ¿Cuál es el top 3 de peores países enventas?"
      ],
      "metadata": {
        "id": "8-3WcQhWDu6a"
      }
    },
    {
      "cell_type": "markdown",
      "source": [
        "#### Top 3 mejores países en ventas"
      ],
      "metadata": {
        "id": "LWGi2f-iD_yZ"
      }
    },
    {
      "cell_type": "code",
      "source": [
        "# Función multiplica Quantity * UnitPrice, los suma por Country paises y ordena descendente\n",
        "def total_revenue(group):\n",
        "  return ((group['Quantity'] * group['UnitPrice']).sum())\n",
        "\n",
        "revenue_per_country = df.groupby('Country').apply(total_revenue)\n",
        "rank_country_best = revenue_per_country.sort_values(ascending = False)\n",
        "print('Los 3 países con mejores ventas son: \\n',rank_country_best.head(3))\n",
        "\n",
        "\n",
        "rank_country_worst = revenue_per_country.sort_values(ascending = True)\n",
        "print('\\nLos 3 países con peores ventas son: \\n', rank_country_worst.head(3\n",
        "                                                                        ))"
      ],
      "metadata": {
        "colab": {
          "base_uri": "https://localhost:8080/"
        },
        "id": "TtUMT6jJDkZs",
        "outputId": "ec3a551d-a098-4ba2-acae-95e4696820f6"
      },
      "execution_count": 17,
      "outputs": [
        {
          "output_type": "stream",
          "name": "stdout",
          "text": [
            "Los 3 países con mejores ventas son: \n",
            " Country\n",
            "United Kingdom    8187806.364\n",
            "Netherlands        284661.540\n",
            "EIRE               263276.820\n",
            "dtype: float64\n",
            "\n",
            "Los 3 países con peores ventas son: \n",
            " Country\n",
            "Saudi Arabia      131.17\n",
            "Bahrain           548.40\n",
            "Czech Republic    707.72\n",
            "dtype: float64\n"
          ]
        }
      ]
    },
    {
      "cell_type": "code",
      "source": [],
      "metadata": {
        "id": "OdmU7VHbGmZe"
      },
      "execution_count": null,
      "outputs": []
    }
  ]
}