{
  "nbformat": 4,
  "nbformat_minor": 0,
  "metadata": {
    "colab": {
      "provenance": [],
      "authorship_tag": "ABX9TyPZ3cPAPEJNAjWfnBAmMAaJ",
      "include_colab_link": true
    },
    "kernelspec": {
      "name": "python3",
      "display_name": "Python 3"
    },
    "language_info": {
      "name": "python"
    }
  },
  "cells": [
    {
      "cell_type": "markdown",
      "metadata": {
        "id": "view-in-github",
        "colab_type": "text"
      },
      "source": [
        "<a href=\"https://colab.research.google.com/github/electrojam/Curso-de-Python-para-Ciencia-de-Datos/blob/main/Clase12_Pandas_para_Manipulaci%C3%B3n_de_Datos12_32.ipynb\" target=\"_parent\"><img src=\"https://colab.research.google.com/assets/colab-badge.svg\" alt=\"Open In Colab\"/></a>"
      ]
    },
    {
      "cell_type": "code",
      "execution_count": 1,
      "metadata": {
        "id": "9TpTBHyH0F9f"
      },
      "outputs": [],
      "source": [
        "import pandas as pd"
      ]
    },
    {
      "cell_type": "code",
      "source": [
        "path = '/content/online_retail.csv'\n",
        "retail_data = pd.read_csv(path)\n",
        "#print(type(retail_data))\n",
        "print(retail_data)"
      ],
      "metadata": {
        "colab": {
          "base_uri": "https://localhost:8080/"
        },
        "id": "no0WWy4X0Wpd",
        "outputId": "b57f01c0-b6aa-4e33-8a69-e7cecc2d5bdf"
      },
      "execution_count": 6,
      "outputs": [
        {
          "output_type": "stream",
          "name": "stdout",
          "text": [
            "       InvoiceNo StockCode                          Description  Quantity  \\\n",
            "0         536365    85123A   WHITE HANGING HEART T-LIGHT HOLDER         6   \n",
            "1         536365     71053                  WHITE METAL LANTERN         6   \n",
            "2         536365    84406B       CREAM CUPID HEARTS COAT HANGER         8   \n",
            "3         536365    84029G  KNITTED UNION FLAG HOT WATER BOTTLE         6   \n",
            "4         536365    84029E       RED WOOLLY HOTTIE WHITE HEART.         6   \n",
            "...          ...       ...                                  ...       ...   \n",
            "541904    581587     22613          PACK OF 20 SPACEBOY NAPKINS        12   \n",
            "541905    581587     22899         CHILDREN'S APRON DOLLY GIRL          6   \n",
            "541906    581587     23254        CHILDRENS CUTLERY DOLLY GIRL          4   \n",
            "541907    581587     23255      CHILDRENS CUTLERY CIRCUS PARADE         4   \n",
            "541908    581587     22138        BAKING SET 9 PIECE RETROSPOT          3   \n",
            "\n",
            "            InvoiceDate  UnitPrice  CustomerID         Country  \n",
            "0        12/1/2010 8:26       2.55     17850.0  United Kingdom  \n",
            "1        12/1/2010 8:26       3.39     17850.0  United Kingdom  \n",
            "2        12/1/2010 8:26       2.75     17850.0  United Kingdom  \n",
            "3        12/1/2010 8:26       3.39     17850.0  United Kingdom  \n",
            "4        12/1/2010 8:26       3.39     17850.0  United Kingdom  \n",
            "...                 ...        ...         ...             ...  \n",
            "541904  12/9/2011 12:50       0.85     12680.0          France  \n",
            "541905  12/9/2011 12:50       2.10     12680.0          France  \n",
            "541906  12/9/2011 12:50       4.15     12680.0          France  \n",
            "541907  12/9/2011 12:50       4.15     12680.0          France  \n",
            "541908  12/9/2011 12:50       4.95     12680.0          France  \n",
            "\n",
            "[541909 rows x 8 columns]\n"
          ]
        }
      ]
    },
    {
      "cell_type": "markdown",
      "source": [
        "##### Si queremos leer archivo excel"
      ],
      "metadata": {
        "id": "uROo9mw71WXt"
      }
    },
    {
      "cell_type": "code",
      "source": [
        "#data_excel = pd.read_excel(path)"
      ],
      "metadata": {
        "id": "odvsuoW_0ics"
      },
      "execution_count": 7,
      "outputs": []
    },
    {
      "cell_type": "markdown",
      "source": [
        "##### Si queremos leer archivo en json"
      ],
      "metadata": {
        "id": "3tK9ljdF1hQH"
      }
    },
    {
      "cell_type": "code",
      "source": [
        "#data_json = pd.read_json(path)"
      ],
      "metadata": {
        "id": "33jLQf1O1gKU"
      },
      "execution_count": 8,
      "outputs": []
    }
  ]
}