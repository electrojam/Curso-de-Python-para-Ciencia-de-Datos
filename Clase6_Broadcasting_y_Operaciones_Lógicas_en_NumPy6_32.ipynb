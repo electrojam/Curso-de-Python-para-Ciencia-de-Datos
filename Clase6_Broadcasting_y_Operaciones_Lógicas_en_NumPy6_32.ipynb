{
  "nbformat": 4,
  "nbformat_minor": 0,
  "metadata": {
    "colab": {
      "provenance": [],
      "authorship_tag": "ABX9TyPxgdJ6CCwKkVchD2F4+5RS",
      "include_colab_link": true
    },
    "kernelspec": {
      "name": "python3",
      "display_name": "Python 3"
    },
    "language_info": {
      "name": "python"
    }
  },
  "cells": [
    {
      "cell_type": "markdown",
      "metadata": {
        "id": "view-in-github",
        "colab_type": "text"
      },
      "source": [
        "<a href=\"https://colab.research.google.com/github/electrojam/Curso-de-Python-para-Ciencia-de-Datos/blob/main/Clase6_Broadcasting_y_Operaciones_L%C3%B3gicas_en_NumPy6_32.ipynb\" target=\"_parent\"><img src=\"https://colab.research.google.com/assets/colab-badge.svg\" alt=\"Open In Colab\"/></a>"
      ]
    },
    {
      "cell_type": "markdown",
      "source": [
        "### Brodadcasting"
      ],
      "metadata": {
        "id": "g6a6Hi1Yoz7I"
      }
    },
    {
      "cell_type": "code",
      "execution_count": 1,
      "metadata": {
        "id": "eKB2KQBXn4_M"
      },
      "outputs": [],
      "source": [
        "import numpy as np"
      ]
    },
    {
      "cell_type": "code",
      "source": [
        "# numpy extiende array discount para multiplicarlo por array prices\n",
        "prices = np.array([100, 200, 300])\n",
        "discount = np.array([0.9])\n",
        "discount_prices = prices * discount\n",
        "print(discount_prices)"
      ],
      "metadata": {
        "colab": {
          "base_uri": "https://localhost:8080/"
        },
        "id": "5E_fBoqvoGsF",
        "outputId": "49baac8c-69a5-4447-ec77-8631dad8b8f2"
      },
      "execution_count": 2,
      "outputs": [
        {
          "output_type": "stream",
          "name": "stdout",
          "text": [
            "[ 90. 180. 270.]\n"
          ]
        }
      ]
    },
    {
      "cell_type": "code",
      "source": [
        "# numpy extiende array (matriz) discount para sumarlo al array (matriz) prices\n",
        "prices = np.random.randint(100, 500, size=(3,3))\n",
        "discount = np.array([10, 20, 30])\n",
        "discount_prices = prices + discount\n",
        "print(prices, \"\\n\")\n",
        "print(discount_prices)"
      ],
      "metadata": {
        "colab": {
          "base_uri": "https://localhost:8080/"
        },
        "id": "VWtIVT0ypGwO",
        "outputId": "177e5712-08f4-4a60-89af-b20d0ae77ece"
      },
      "execution_count": 3,
      "outputs": [
        {
          "output_type": "stream",
          "name": "stdout",
          "text": [
            "[[390 356 152]\n",
            " [267 326 395]\n",
            " [152 337 385]] \n",
            "\n",
            "[[400 376 182]\n",
            " [277 346 425]\n",
            " [162 357 415]]\n"
          ]
        }
      ]
    },
    {
      "cell_type": "code",
      "source": [
        "# concatenacion\n",
        "array_a  = np.array([1,2,3])\n",
        "array_b  = np.array([4,5,6])\n",
        "concatenate_a = np.concatenate((array_a, array_a))\n",
        "print(concatenate_a)\n",
        "concatenate_ab = np.concatenate((array_a, array_b))\n",
        "print(concatenate_ab)\n"
      ],
      "metadata": {
        "colab": {
          "base_uri": "https://localhost:8080/"
        },
        "id": "moOWhprDquxu",
        "outputId": "c7ff9887-c019-4f8f-c6d7-ca8a34b44c87"
      },
      "execution_count": 4,
      "outputs": [
        {
          "output_type": "stream",
          "name": "stdout",
          "text": [
            "[1 2 3 1 2 3]\n",
            "[1 2 3 4 5 6]\n"
          ]
        }
      ]
    },
    {
      "cell_type": "code",
      "source": [
        "# stacking apilación de arrays verticalmente\n",
        "stacked_vertical = np.vstack((array_a, array_b))\n",
        "print(stacked_vertical)"
      ],
      "metadata": {
        "colab": {
          "base_uri": "https://localhost:8080/"
        },
        "id": "tQl5Q0KHsyrX",
        "outputId": "de03a80a-e3db-4cf7-ced1-6b841d6704fb"
      },
      "execution_count": 5,
      "outputs": [
        {
          "output_type": "stream",
          "name": "stdout",
          "text": [
            "[[1 2 3]\n",
            " [4 5 6]]\n"
          ]
        }
      ]
    },
    {
      "cell_type": "code",
      "source": [
        "# stacked apilación de arrays horizontalmente\n",
        "stacked_horizontal = np.hstack((array_a, array_b))\n",
        "print(stacked_horizontal)"
      ],
      "metadata": {
        "colab": {
          "base_uri": "https://localhost:8080/"
        },
        "id": "7lCzJpXJtRZa",
        "outputId": "e8f08e1f-ea81-4826-ca7f-4a53fc5632a0"
      },
      "execution_count": 6,
      "outputs": [
        {
          "output_type": "stream",
          "name": "stdout",
          "text": [
            "[1 2 3 4 5 6]\n"
          ]
        }
      ]
    },
    {
      "cell_type": "code",
      "source": [
        "# split división de arrays\n",
        "array_c = np.arange(1, 10)\n",
        "split_array = np.split(array_c, 3) # split división de array en partes de 3 elementos\n",
        "print(array_c, \" \\n\")\n",
        "print(split_array)\n"
      ],
      "metadata": {
        "colab": {
          "base_uri": "https://localhost:8080/"
        },
        "id": "mzLfVXrItkAY",
        "outputId": "69de59b5-30dd-4369-d4f8-e6bbd0fdbf9b"
      },
      "execution_count": 7,
      "outputs": [
        {
          "output_type": "stream",
          "name": "stdout",
          "text": [
            "[1 2 3 4 5 6 7 8 9]  \n",
            "\n",
            "[array([1, 2, 3]), array([4, 5, 6]), array([7, 8, 9])]\n"
          ]
        }
      ]
    }
  ]
}