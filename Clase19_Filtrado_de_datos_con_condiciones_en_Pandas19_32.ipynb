{
  "nbformat": 4,
  "nbformat_minor": 0,
  "metadata": {
    "colab": {
      "provenance": [],
      "authorship_tag": "ABX9TyMNKT0y2ljHQTB6vbM2+U21",
      "include_colab_link": true
    },
    "kernelspec": {
      "name": "python3",
      "display_name": "Python 3"
    },
    "language_info": {
      "name": "python"
    }
  },
  "cells": [
    {
      "cell_type": "markdown",
      "metadata": {
        "id": "view-in-github",
        "colab_type": "text"
      },
      "source": [
        "<a href=\"https://colab.research.google.com/github/electrojam/Curso-de-Python-para-Ciencia-de-Datos/blob/main/Clase19_Filtrado_de_datos_con_condiciones_en_Pandas19_32.ipynb\" target=\"_parent\"><img src=\"https://colab.research.google.com/assets/colab-badge.svg\" alt=\"Open In Colab\"/></a>"
      ]
    },
    {
      "cell_type": "code",
      "execution_count": 1,
      "metadata": {
        "id": "zAGl3r0hTJz0"
      },
      "outputs": [],
      "source": [
        "import pandas as pd"
      ]
    },
    {
      "cell_type": "code",
      "source": [
        "# Leer dataset de ventas desde archivo csv\n",
        "file_path = 'https://raw.githubusercontent.com/databricks/Spark-The-Definitive-Guide/refs/heads/master/data/retail-data/all/online-retail-dataset.csv'\n",
        "sales_data = pd.read_csv(file_path)"
      ],
      "metadata": {
        "id": "yp_P3H2-ToI_"
      },
      "execution_count": 2,
      "outputs": []
    },
    {
      "cell_type": "code",
      "source": [
        "# Convertir columna 'InvoiceDate' a tipo datetime\n",
        "sales_data['InvoiceDate'] = pd.to_datetime(sales_data['InvoiceDate'])"
      ],
      "metadata": {
        "id": "PnzS9VUbTvp-"
      },
      "execution_count": 3,
      "outputs": []
    },
    {
      "cell_type": "code",
      "source": [
        "# Eliminar filas con valores faltantes en columnas críticas 'CustomerID', 'InvoiceDate'\n",
        "sales_data.dropna(subset = ['CustomerID', 'InvoiceDate'], inplace = True)"
      ],
      "metadata": {
        "id": "ffzid3RnUghl"
      },
      "execution_count": 4,
      "outputs": []
    },
    {
      "cell_type": "code",
      "source": [
        "# Crear columna 'TotalPrice' = 'Quantity' * 'UnitPrice'\n",
        "sales_data['TotalPrice'] = sales_data['Quantity'] * sales_data['UnitPrice']"
      ],
      "metadata": {
        "id": "LxTbkX9FVMUQ"
      },
      "execution_count": 5,
      "outputs": []
    },
    {
      "cell_type": "code",
      "source": [
        "print(sales_data.head())"
      ],
      "metadata": {
        "colab": {
          "base_uri": "https://localhost:8080/"
        },
        "id": "qycUZjiUVfhP",
        "outputId": "c89b8703-e74c-41c4-b6be-646b94d6e1c2"
      },
      "execution_count": 6,
      "outputs": [
        {
          "output_type": "stream",
          "name": "stdout",
          "text": [
            "  InvoiceNo StockCode                          Description  Quantity  \\\n",
            "0    536365    85123A   WHITE HANGING HEART T-LIGHT HOLDER         6   \n",
            "1    536365     71053                  WHITE METAL LANTERN         6   \n",
            "2    536365    84406B       CREAM CUPID HEARTS COAT HANGER         8   \n",
            "3    536365    84029G  KNITTED UNION FLAG HOT WATER BOTTLE         6   \n",
            "4    536365    84029E       RED WOOLLY HOTTIE WHITE HEART.         6   \n",
            "\n",
            "          InvoiceDate  UnitPrice  CustomerID         Country  TotalPrice  \n",
            "0 2010-12-01 08:26:00       2.55     17850.0  United Kingdom       15.30  \n",
            "1 2010-12-01 08:26:00       3.39     17850.0  United Kingdom       20.34  \n",
            "2 2010-12-01 08:26:00       2.75     17850.0  United Kingdom       22.00  \n",
            "3 2010-12-01 08:26:00       3.39     17850.0  United Kingdom       20.34  \n",
            "4 2010-12-01 08:26:00       3.39     17850.0  United Kingdom       20.34  \n"
          ]
        }
      ]
    },
    {
      "cell_type": "markdown",
      "source": [
        "#### Filtrado\n",
        "Filtramos las ventas en el Reino Unido - UK"
      ],
      "metadata": {
        "id": "9O_7L4rEV5T7"
      }
    },
    {
      "cell_type": "code",
      "source": [
        "# filtrar ventas por 'Country' == United Kingdom\n",
        "uk_sales = sales_data[sales_data['Country'] == 'United Kingdom']\n",
        "print(uk_sales)"
      ],
      "metadata": {
        "colab": {
          "base_uri": "https://localhost:8080/"
        },
        "id": "QY-HBSsmVk8O",
        "outputId": "83e25eb6-ad62-4a79-8f5c-39d7b9900a97"
      },
      "execution_count": 7,
      "outputs": [
        {
          "output_type": "stream",
          "name": "stdout",
          "text": [
            "       InvoiceNo StockCode                          Description  Quantity  \\\n",
            "0         536365    85123A   WHITE HANGING HEART T-LIGHT HOLDER         6   \n",
            "1         536365     71053                  WHITE METAL LANTERN         6   \n",
            "2         536365    84406B       CREAM CUPID HEARTS COAT HANGER         8   \n",
            "3         536365    84029G  KNITTED UNION FLAG HOT WATER BOTTLE         6   \n",
            "4         536365    84029E       RED WOOLLY HOTTIE WHITE HEART.         6   \n",
            "...          ...       ...                                  ...       ...   \n",
            "541889    581585     22466       FAIRY TALE COTTAGE NIGHT LIGHT        12   \n",
            "541890    581586     22061  LARGE CAKE STAND  HANGING STRAWBERY         8   \n",
            "541891    581586     23275     SET OF 3 HANGING OWLS OLLIE BEAK        24   \n",
            "541892    581586     21217        RED RETROSPOT ROUND CAKE TINS        24   \n",
            "541893    581586     20685                DOORMAT RED RETROSPOT        10   \n",
            "\n",
            "               InvoiceDate  UnitPrice  CustomerID         Country  TotalPrice  \n",
            "0      2010-12-01 08:26:00       2.55     17850.0  United Kingdom       15.30  \n",
            "1      2010-12-01 08:26:00       3.39     17850.0  United Kingdom       20.34  \n",
            "2      2010-12-01 08:26:00       2.75     17850.0  United Kingdom       22.00  \n",
            "3      2010-12-01 08:26:00       3.39     17850.0  United Kingdom       20.34  \n",
            "4      2010-12-01 08:26:00       3.39     17850.0  United Kingdom       20.34  \n",
            "...                    ...        ...         ...             ...         ...  \n",
            "541889 2011-12-09 12:31:00       1.95     15804.0  United Kingdom       23.40  \n",
            "541890 2011-12-09 12:49:00       2.95     13113.0  United Kingdom       23.60  \n",
            "541891 2011-12-09 12:49:00       1.25     13113.0  United Kingdom       30.00  \n",
            "541892 2011-12-09 12:49:00       8.95     13113.0  United Kingdom      214.80  \n",
            "541893 2011-12-09 12:49:00       7.08     13113.0  United Kingdom       70.80  \n",
            "\n",
            "[361878 rows x 9 columns]\n"
          ]
        }
      ]
    },
    {
      "cell_type": "code",
      "source": [
        "# Filtrar por valor Quantity > 10\n",
        "high_quantity_sales = sales_data[sales_data['Quantity'] > 10]\n",
        "print(high_quantity_sales)"
      ],
      "metadata": {
        "colab": {
          "base_uri": "https://localhost:8080/"
        },
        "id": "M-CXSfLMWsz1",
        "outputId": "977ad2c7-8054-4251-9b2c-7348f5540c04"
      },
      "execution_count": 8,
      "outputs": [
        {
          "output_type": "stream",
          "name": "stdout",
          "text": [
            "       InvoiceNo StockCode                      Description  Quantity  \\\n",
            "9         536367     84879    ASSORTED COLOUR BIRD ORNAMENT        32   \n",
            "26        536370     22728        ALARM CLOCK BAKELIKE PINK        24   \n",
            "27        536370     22727        ALARM CLOCK BAKELIKE RED         24   \n",
            "28        536370     22726       ALARM CLOCK BAKELIKE GREEN        12   \n",
            "29        536370     21724  PANDA AND BUNNIES STICKER SHEET        12   \n",
            "...          ...       ...                              ...       ...   \n",
            "541894    581587     22631         CIRCUS PARADE LUNCH BOX         12   \n",
            "541895    581587     22556   PLASTERS IN TIN CIRCUS PARADE         12   \n",
            "541896    581587     22555        PLASTERS IN TIN STRONGMAN        12   \n",
            "541902    581587     22629              SPACEBOY LUNCH BOX         12   \n",
            "541904    581587     22613      PACK OF 20 SPACEBOY NAPKINS        12   \n",
            "\n",
            "               InvoiceDate  UnitPrice  CustomerID         Country  TotalPrice  \n",
            "9      2010-12-01 08:34:00       1.69     13047.0  United Kingdom       54.08  \n",
            "26     2010-12-01 08:45:00       3.75     12583.0          France       90.00  \n",
            "27     2010-12-01 08:45:00       3.75     12583.0          France       90.00  \n",
            "28     2010-12-01 08:45:00       3.75     12583.0          France       45.00  \n",
            "29     2010-12-01 08:45:00       0.85     12583.0          France       10.20  \n",
            "...                    ...        ...         ...             ...         ...  \n",
            "541894 2011-12-09 12:50:00       1.95     12680.0          France       23.40  \n",
            "541895 2011-12-09 12:50:00       1.65     12680.0          France       19.80  \n",
            "541896 2011-12-09 12:50:00       1.65     12680.0          France       19.80  \n",
            "541902 2011-12-09 12:50:00       1.95     12680.0          France       23.40  \n",
            "541904 2011-12-09 12:50:00       0.85     12680.0          France       10.20  \n",
            "\n",
            "[126312 rows x 9 columns]\n"
          ]
        }
      ]
    },
    {
      "cell_type": "code",
      "source": [
        "# Filtrar por varios criterios\n",
        "\n",
        "# Filtrar Quantity > 80 y 'Country' == United Kingdom\n",
        "uk_high_quantity_sales = sales_data[(sales_data['Country'] == 'United Kingdom') &\n",
        "                                    (sales_data['Quantity'] == 80)]\n",
        "print(uk_high_quantity_sales)"
      ],
      "metadata": {
        "colab": {
          "base_uri": "https://localhost:8080/"
        },
        "id": "Mx5vYBbQXMU2",
        "outputId": "e3fc9fc8-f11e-42ee-ea58-2ba2cabd2bb5"
      },
      "execution_count": 9,
      "outputs": [
        {
          "output_type": "stream",
          "name": "stdout",
          "text": [
            "       InvoiceNo StockCode                        Description  Quantity  \\\n",
            "46        536371     22086    PAPER CHAIN KIT 50'S CHRISTMAS         80   \n",
            "1228      536531     22086    PAPER CHAIN KIT 50'S CHRISTMAS         80   \n",
            "1333      536536     84879      ASSORTED COLOUR BIRD ORNAMENT        80   \n",
            "5226      536848     22910  PAPER CHAIN KIT VINTAGE CHRISTMAS        80   \n",
            "7432      537038     22086    PAPER CHAIN KIT 50'S CHRISTMAS         80   \n",
            "...          ...       ...                                ...       ...   \n",
            "530197    580822     16218         CARTOON  PENCIL SHARPENERS        80   \n",
            "530198    580822     16216      LETTER SHAPE PENCIL SHARPENER        80   \n",
            "531039    580902     22086    PAPER CHAIN KIT 50'S CHRISTMAS         80   \n",
            "533586    581068     23275   SET OF 3 HANGING OWLS OLLIE BEAK        80   \n",
            "538588    581410     22086    PAPER CHAIN KIT 50'S CHRISTMAS         80   \n",
            "\n",
            "               InvoiceDate  UnitPrice  CustomerID         Country  TotalPrice  \n",
            "46     2010-12-01 09:00:00       2.55     13748.0  United Kingdom       204.0  \n",
            "1228   2010-12-01 13:23:00       2.55     15485.0  United Kingdom       204.0  \n",
            "1333   2010-12-01 13:45:00       1.69     18144.0  United Kingdom       135.2  \n",
            "5226   2010-12-03 09:39:00       2.55     13408.0  United Kingdom       204.0  \n",
            "7432   2010-12-05 10:12:00       2.55     15465.0  United Kingdom       204.0  \n",
            "...                    ...        ...         ...             ...         ...  \n",
            "530197 2011-12-06 11:33:00       0.06     17884.0  United Kingdom         4.8  \n",
            "530198 2011-12-06 11:33:00       0.06     17884.0  United Kingdom         4.8  \n",
            "531039 2011-12-06 12:50:00       2.55     13881.0  United Kingdom       204.0  \n",
            "533586 2011-12-07 11:26:00       1.25     16191.0  United Kingdom       100.0  \n",
            "538588 2011-12-08 14:14:00       2.55     13098.0  United Kingdom       204.0  \n",
            "\n",
            "[159 rows x 9 columns]\n"
          ]
        }
      ]
    },
    {
      "cell_type": "code",
      "source": [
        "# Filtración por tiempo\n",
        "\n",
        "# Filtrar ventas por 'InvoiceDate' == 2011\n",
        "# Utilizamos .dt.year para extraer solo el año\n",
        "sales_2010 = sales_data[sales_data['InvoiceDate'].dt.year == 2010]\n",
        "print(sales_2010)"
      ],
      "metadata": {
        "colab": {
          "base_uri": "https://localhost:8080/"
        },
        "id": "ojKnFtu1Zcf5",
        "outputId": "25f718bd-80f7-42b6-acbc-3151f404e9f4"
      },
      "execution_count": 10,
      "outputs": [
        {
          "output_type": "stream",
          "name": "stdout",
          "text": [
            "      InvoiceNo StockCode                          Description  Quantity  \\\n",
            "0        536365    85123A   WHITE HANGING HEART T-LIGHT HOLDER         6   \n",
            "1        536365     71053                  WHITE METAL LANTERN         6   \n",
            "2        536365    84406B       CREAM CUPID HEARTS COAT HANGER         8   \n",
            "3        536365    84029G  KNITTED UNION FLAG HOT WATER BOTTLE         6   \n",
            "4        536365    84029E       RED WOOLLY HOTTIE WHITE HEART.         6   \n",
            "...         ...       ...                                  ...       ...   \n",
            "42448    539988     84380    SET OF 3 BUTTERFLY COOKIE CUTTERS         1   \n",
            "42449    539988    84849D                HOT BATHS SOAP HOLDER         1   \n",
            "42450    539988    84849B               FAIRY SOAP SOAP HOLDER         1   \n",
            "42451    539988     22854          CREAM SWEETHEART EGG HOLDER         2   \n",
            "42452    539988    47559B                  TEA TIME OVEN GLOVE         2   \n",
            "\n",
            "              InvoiceDate  UnitPrice  CustomerID         Country  TotalPrice  \n",
            "0     2010-12-01 08:26:00       2.55     17850.0  United Kingdom       15.30  \n",
            "1     2010-12-01 08:26:00       3.39     17850.0  United Kingdom       20.34  \n",
            "2     2010-12-01 08:26:00       2.75     17850.0  United Kingdom       22.00  \n",
            "3     2010-12-01 08:26:00       3.39     17850.0  United Kingdom       20.34  \n",
            "4     2010-12-01 08:26:00       3.39     17850.0  United Kingdom       20.34  \n",
            "...                   ...        ...         ...             ...         ...  \n",
            "42448 2010-12-23 16:06:00       1.25     18116.0  United Kingdom        1.25  \n",
            "42449 2010-12-23 16:06:00       1.69     18116.0  United Kingdom        1.69  \n",
            "42450 2010-12-23 16:06:00       1.69     18116.0  United Kingdom        1.69  \n",
            "42451 2010-12-23 16:06:00       4.95     18116.0  United Kingdom        9.90  \n",
            "42452 2010-12-23 16:06:00       1.25     18116.0  United Kingdom        2.50  \n",
            "\n",
            "[26850 rows x 9 columns]\n"
          ]
        }
      ]
    },
    {
      "cell_type": "code",
      "source": [
        "# Filtrar por año y por mes, dic 2010\n",
        "# El mes se indica en número\n",
        "sales_dec_2010 = sales_data[(sales_data['InvoiceDate'].dt.year == 2010) &\n",
        "                            (sales_data['InvoiceDate'].dt.month == 12)]\n",
        "print(sales_dec_2010)"
      ],
      "metadata": {
        "colab": {
          "base_uri": "https://localhost:8080/"
        },
        "id": "rmu4zaxmZ_2q",
        "outputId": "5a56e8f1-4e72-4228-fbd9-da6a02704bd7"
      },
      "execution_count": 11,
      "outputs": [
        {
          "output_type": "stream",
          "name": "stdout",
          "text": [
            "      InvoiceNo StockCode                          Description  Quantity  \\\n",
            "0        536365    85123A   WHITE HANGING HEART T-LIGHT HOLDER         6   \n",
            "1        536365     71053                  WHITE METAL LANTERN         6   \n",
            "2        536365    84406B       CREAM CUPID HEARTS COAT HANGER         8   \n",
            "3        536365    84029G  KNITTED UNION FLAG HOT WATER BOTTLE         6   \n",
            "4        536365    84029E       RED WOOLLY HOTTIE WHITE HEART.         6   \n",
            "...         ...       ...                                  ...       ...   \n",
            "42448    539988     84380    SET OF 3 BUTTERFLY COOKIE CUTTERS         1   \n",
            "42449    539988    84849D                HOT BATHS SOAP HOLDER         1   \n",
            "42450    539988    84849B               FAIRY SOAP SOAP HOLDER         1   \n",
            "42451    539988     22854          CREAM SWEETHEART EGG HOLDER         2   \n",
            "42452    539988    47559B                  TEA TIME OVEN GLOVE         2   \n",
            "\n",
            "              InvoiceDate  UnitPrice  CustomerID         Country  TotalPrice  \n",
            "0     2010-12-01 08:26:00       2.55     17850.0  United Kingdom       15.30  \n",
            "1     2010-12-01 08:26:00       3.39     17850.0  United Kingdom       20.34  \n",
            "2     2010-12-01 08:26:00       2.75     17850.0  United Kingdom       22.00  \n",
            "3     2010-12-01 08:26:00       3.39     17850.0  United Kingdom       20.34  \n",
            "4     2010-12-01 08:26:00       3.39     17850.0  United Kingdom       20.34  \n",
            "...                   ...        ...         ...             ...         ...  \n",
            "42448 2010-12-23 16:06:00       1.25     18116.0  United Kingdom        1.25  \n",
            "42449 2010-12-23 16:06:00       1.69     18116.0  United Kingdom        1.69  \n",
            "42450 2010-12-23 16:06:00       1.69     18116.0  United Kingdom        1.69  \n",
            "42451 2010-12-23 16:06:00       4.95     18116.0  United Kingdom        9.90  \n",
            "42452 2010-12-23 16:06:00       1.25     18116.0  United Kingdom        2.50  \n",
            "\n",
            "[26850 rows x 9 columns]\n"
          ]
        }
      ]
    },
    {
      "cell_type": "code",
      "source": [],
      "metadata": {
        "id": "dkTFv_l2aky7"
      },
      "execution_count": 11,
      "outputs": []
    }
  ]
}