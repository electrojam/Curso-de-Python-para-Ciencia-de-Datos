{
  "nbformat": 4,
  "nbformat_minor": 0,
  "metadata": {
    "colab": {
      "provenance": [],
      "authorship_tag": "ABX9TyNh+G/teyrtdGkGtpkhx5TE",
      "include_colab_link": true
    },
    "kernelspec": {
      "name": "python3",
      "display_name": "Python 3"
    },
    "language_info": {
      "name": "python"
    }
  },
  "cells": [
    {
      "cell_type": "markdown",
      "metadata": {
        "id": "view-in-github",
        "colab_type": "text"
      },
      "source": [
        "<a href=\"https://colab.research.google.com/github/electrojam/Curso-de-Python-para-Ciencia-de-Datos/blob/main/Clase13_Creaci%C3%B3n_de_Dataframes_en_Pandas13_32.ipynb\" target=\"_parent\"><img src=\"https://colab.research.google.com/assets/colab-badge.svg\" alt=\"Open In Colab\"/></a>"
      ]
    },
    {
      "cell_type": "code",
      "execution_count": 7,
      "metadata": {
        "id": "rAAdDziR2x3q"
      },
      "outputs": [],
      "source": [
        "import pandas as pd\n",
        "import numpy as np"
      ]
    },
    {
      "cell_type": "code",
      "source": [
        "file_path = '/content/online_retail.csv'\n",
        "sales_data = pd.read_csv(file_path)\n",
        "print(sales_data.head())"
      ],
      "metadata": {
        "colab": {
          "base_uri": "https://localhost:8080/"
        },
        "id": "1AaEkQCH24Ku",
        "outputId": "f1e67d32-ec8b-4300-e00d-cf46feb140c2"
      },
      "execution_count": 6,
      "outputs": [
        {
          "output_type": "stream",
          "name": "stdout",
          "text": [
            "  InvoiceNo StockCode                          Description  Quantity  \\\n",
            "0    536365    85123A   WHITE HANGING HEART T-LIGHT HOLDER         6   \n",
            "1    536365     71053                  WHITE METAL LANTERN         6   \n",
            "2    536365    84406B       CREAM CUPID HEARTS COAT HANGER         8   \n",
            "3    536365    84029G  KNITTED UNION FLAG HOT WATER BOTTLE         6   \n",
            "4    536365    84029E       RED WOOLLY HOTTIE WHITE HEART.         6   \n",
            "\n",
            "      InvoiceDate  UnitPrice  CustomerID         Country  \n",
            "0  12/1/2010 8:26       2.55     17850.0  United Kingdom  \n",
            "1  12/1/2010 8:26       3.39     17850.0  United Kingdom  \n",
            "2  12/1/2010 8:26       2.75     17850.0  United Kingdom  \n",
            "3  12/1/2010 8:26       3.39     17850.0  United Kingdom  \n",
            "4  12/1/2010 8:26       3.39     17850.0  United Kingdom  \n"
          ]
        }
      ]
    },
    {
      "cell_type": "markdown",
      "source": [
        "#### Creación de un DataFrame desde un array con Pandas"
      ],
      "metadata": {
        "id": "q8jJlALC4AOn"
      }
    },
    {
      "cell_type": "code",
      "source": [
        "data = np.array([[1,2,3], [4,5,6], [7,8,9]])\n",
        "dt_from_array = pd.DataFrame(data, columns=['A','B','C'])\n",
        "print(dt_from_array)"
      ],
      "metadata": {
        "colab": {
          "base_uri": "https://localhost:8080/"
        },
        "id": "ErDGq1O83LBu",
        "outputId": "daed7f86-9b68-4103-bc07-df67333c97e8"
      },
      "execution_count": 8,
      "outputs": [
        {
          "output_type": "stream",
          "name": "stdout",
          "text": [
            "   A  B  C\n",
            "0  1  2  3\n",
            "1  4  5  6\n",
            "2  7  8  9\n"
          ]
        }
      ]
    },
    {
      "cell_type": "markdown",
      "source": [
        "#### Creación de un DataFrame desde una lista"
      ],
      "metadata": {
        "id": "4xRTLcVF4jGx"
      }
    },
    {
      "cell_type": "code",
      "source": [
        "data = [[1, 'Jhon', 22], [2,'Ana', 24]]\n",
        "df_from_list = pd.DataFrame(data, columns = ['ID', 'Name', 'Age'])\n",
        "print(df_from_list)"
      ],
      "metadata": {
        "colab": {
          "base_uri": "https://localhost:8080/"
        },
        "id": "oifB88Zy4Kke",
        "outputId": "000dfacd-8a9c-4459-c356-4b36e5bf2953"
      },
      "execution_count": 11,
      "outputs": [
        {
          "output_type": "stream",
          "name": "stdout",
          "text": [
            "   ID  Name  Age\n",
            "0   1  Jhon   22\n",
            "1   2   Ana   24\n"
          ]
        }
      ]
    },
    {
      "cell_type": "markdown",
      "source": [
        "#### Creación de un DataFrame desde un diccionario"
      ],
      "metadata": {
        "id": "agmzHWwW4nup"
      }
    },
    {
      "cell_type": "code",
      "source": [
        "data = [{'ID': 1,\n",
        "         'Name': 'Jhon',\n",
        "         'Age' : 22\n",
        "         }]\n",
        "\n",
        "df_from_dict_list = pd.DataFrame(data)\n",
        "print(df_from_dict_list)"
      ],
      "metadata": {
        "colab": {
          "base_uri": "https://localhost:8080/"
        },
        "id": "3IH2wjnJ4fwu",
        "outputId": "0337b7b8-afe2-488a-91ed-59d8629f31b9"
      },
      "execution_count": 12,
      "outputs": [
        {
          "output_type": "stream",
          "name": "stdout",
          "text": [
            "   ID  Name  Age\n",
            "0   1  Jhon   22\n"
          ]
        }
      ]
    },
    {
      "cell_type": "code",
      "source": [
        "data = {'ID' : [1,2,3], 'Name': ['Jhon', 'Ana', 'Mike'], 'Age': [22,24,21]}\n",
        "\n",
        "df_from_dict = pd.DataFrame(data)\n",
        "print(df_from_dict)"
      ],
      "metadata": {
        "colab": {
          "base_uri": "https://localhost:8080/"
        },
        "id": "s-3d3Ufa5ikE",
        "outputId": "45894797-8aee-4080-a3ac-d4364dfeb429"
      },
      "execution_count": 13,
      "outputs": [
        {
          "output_type": "stream",
          "name": "stdout",
          "text": [
            "   ID  Name  Age\n",
            "0   1  Jhon   22\n",
            "1   2   Ana   24\n",
            "2   3  Mike   21\n"
          ]
        }
      ]
    },
    {
      "cell_type": "markdown",
      "source": [
        "#### Creación de un DataFrame desde un diccionario que tiene series"
      ],
      "metadata": {
        "id": "TfojePDl5_mQ"
      }
    },
    {
      "cell_type": "code",
      "source": [
        "data = {\n",
        "    'ID': pd.Series([1,2,3]),\n",
        "    'Name': pd.Series(['Jhon', 'Ana', 'Mike']),\n",
        "    'Age': pd.Series([22,24,21])\n",
        "}\n",
        "df_from_series_dict = pd.DataFrame(data)\n",
        "print(df_from_series_dict)"
      ],
      "metadata": {
        "colab": {
          "base_uri": "https://localhost:8080/"
        },
        "id": "b0JnIGsM56tv",
        "outputId": "0c80ccfb-7b6c-407d-ada4-7b0c1401c3e4"
      },
      "execution_count": 15,
      "outputs": [
        {
          "output_type": "stream",
          "name": "stdout",
          "text": [
            "   ID  Name  Age\n",
            "0   1  Jhon   22\n",
            "1   2   Ana   24\n",
            "2   3  Mike   21\n"
          ]
        }
      ]
    }
  ]
}