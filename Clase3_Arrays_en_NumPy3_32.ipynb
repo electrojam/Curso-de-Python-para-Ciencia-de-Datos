{
  "nbformat": 4,
  "nbformat_minor": 0,
  "metadata": {
    "colab": {
      "provenance": [],
      "authorship_tag": "ABX9TyP3NMSnUld7xV302/w4dPX7",
      "include_colab_link": true
    },
    "kernelspec": {
      "name": "python3",
      "display_name": "Python 3"
    },
    "language_info": {
      "name": "python"
    }
  },
  "cells": [
    {
      "cell_type": "markdown",
      "metadata": {
        "id": "view-in-github",
        "colab_type": "text"
      },
      "source": [
        "<a href=\"https://colab.research.google.com/github/electrojam/Curso-de-Python-para-Ciencia-de-Datos/blob/main/Clase3_Arrays_en_NumPy3_32.ipynb\" target=\"_parent\"><img src=\"https://colab.research.google.com/assets/colab-badge.svg\" alt=\"Open In Colab\"/></a>"
      ]
    },
    {
      "cell_type": "code",
      "execution_count": 2,
      "metadata": {
        "id": "Xk3V4XviMzCU"
      },
      "outputs": [],
      "source": [
        "import numpy as np"
      ]
    },
    {
      "cell_type": "code",
      "source": [
        "array = np.array([[1,2,3],[4,5,6]]) #crea matriz 2x3, 2 dimensiones\n",
        "print(array)\n",
        "print(array.ndim)\n",
        "print(array.shape)\n",
        "print(array.dtype)"
      ],
      "metadata": {
        "colab": {
          "base_uri": "https://localhost:8080/"
        },
        "id": "WF6dlsrHi4oD",
        "outputId": "dd05729c-557f-441d-a190-e7038f3951be"
      },
      "execution_count": 3,
      "outputs": [
        {
          "output_type": "stream",
          "name": "stdout",
          "text": [
            "[[1 2 3]\n",
            " [4 5 6]]\n",
            "2\n",
            "(2, 3)\n",
            "int64\n"
          ]
        }
      ]
    },
    {
      "cell_type": "code",
      "source": [
        "z = np.array(3, dtype=np.uint8) # crea arreglo escalar, tipo de dato uint8\n",
        "print(z)"
      ],
      "metadata": {
        "colab": {
          "base_uri": "https://localhost:8080/"
        },
        "id": "9__eE8ozjLyi",
        "outputId": "00d31d52-2ff8-4007-8eee-e08e79494331"
      },
      "execution_count": 4,
      "outputs": [
        {
          "output_type": "stream",
          "name": "stdout",
          "text": [
            "3\n"
          ]
        }
      ]
    },
    {
      "cell_type": "code",
      "source": [
        "double_array = np.array([1,2,3], dtype='d') # crea arreglo con tipo dato float64 = 'd' (decimal)\n",
        "print(double_array)"
      ],
      "metadata": {
        "colab": {
          "base_uri": "https://localhost:8080/"
        },
        "id": "Ko824-U4kM_T",
        "outputId": "e3fde4e1-2df0-45d4-e644-351677f9249a"
      },
      "execution_count": 5,
      "outputs": [
        {
          "output_type": "stream",
          "name": "stdout",
          "text": [
            "[1. 2. 3.]\n"
          ]
        }
      ]
    },
    {
      "cell_type": "code",
      "source": [
        "z = z.astype(np.float64) # convierte dato a float64"
      ],
      "metadata": {
        "id": "P6Te3DNRktdT"
      },
      "execution_count": 6,
      "outputs": []
    },
    {
      "cell_type": "code",
      "source": [
        "array = np.array([[1,2,3], [4,5,6]])  # suma de array\n",
        "add = np.sum(array)\n",
        "print(add)"
      ],
      "metadata": {
        "colab": {
          "base_uri": "https://localhost:8080/"
        },
        "id": "wO9A_wff334e",
        "outputId": "509a1946-55fc-40b5-c3a5-6d2965a2e7c8"
      },
      "execution_count": 7,
      "outputs": [
        {
          "output_type": "stream",
          "name": "stdout",
          "text": [
            "21\n"
          ]
        }
      ]
    },
    {
      "cell_type": "code",
      "source": [
        "array = np.array([[1,2,3], [4,5,6]])\n",
        "sum = np.sum(array)\n",
        "print(sum)"
      ],
      "metadata": {
        "colab": {
          "base_uri": "https://localhost:8080/"
        },
        "id": "aUkSVoe74Cwk",
        "outputId": "0b9a4990-5367-4082-88fd-f8c2ced86185"
      },
      "execution_count": 8,
      "outputs": [
        {
          "output_type": "stream",
          "name": "stdout",
          "text": [
            "21\n"
          ]
        }
      ]
    },
    {
      "cell_type": "code",
      "source": [
        "mean = np.mean(array) # calcula la media de array\n",
        "print(mean)"
      ],
      "metadata": {
        "colab": {
          "base_uri": "https://localhost:8080/"
        },
        "id": "foPKO22k4Yb9",
        "outputId": "94e11d18-8bdf-41e3-adf4-f3a0c97a7bec"
      },
      "execution_count": 10,
      "outputs": [
        {
          "output_type": "stream",
          "name": "stdout",
          "text": [
            "3.5\n"
          ]
        }
      ]
    },
    {
      "cell_type": "code",
      "source": [
        "std = np.std(array) # calcula la desviación estandar std de array\n",
        "print(std)"
      ],
      "metadata": {
        "colab": {
          "base_uri": "https://localhost:8080/"
        },
        "id": "QnaowTXD4cIL",
        "outputId": "4c7bd27e-d629-43df-c0d1-4b9c13ad5d71"
      },
      "execution_count": 11,
      "outputs": [
        {
          "output_type": "stream",
          "name": "stdout",
          "text": [
            "1.707825127659933\n"
          ]
        }
      ]
    },
    {
      "cell_type": "code",
      "source": [],
      "metadata": {
        "id": "L4gOZRPG4s1u"
      },
      "execution_count": null,
      "outputs": []
    }
  ]
}