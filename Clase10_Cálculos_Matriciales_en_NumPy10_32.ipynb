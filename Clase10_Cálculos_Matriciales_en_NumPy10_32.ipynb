{
  "nbformat": 4,
  "nbformat_minor": 0,
  "metadata": {
    "colab": {
      "provenance": [],
      "authorship_tag": "ABX9TyOrbmDefOHNoPTiKHujFWEF",
      "include_colab_link": true
    },
    "kernelspec": {
      "name": "python3",
      "display_name": "Python 3"
    },
    "language_info": {
      "name": "python"
    }
  },
  "cells": [
    {
      "cell_type": "markdown",
      "metadata": {
        "id": "view-in-github",
        "colab_type": "text"
      },
      "source": [
        "<a href=\"https://colab.research.google.com/github/electrojam/Curso-de-Python-para-Ciencia-de-Datos/blob/main/Clase10_C%C3%A1lculos_Matriciales_en_NumPy10_32.ipynb\" target=\"_parent\"><img src=\"https://colab.research.google.com/assets/colab-badge.svg\" alt=\"Open In Colab\"/></a>"
      ]
    },
    {
      "cell_type": "code",
      "execution_count": 2,
      "metadata": {
        "id": "VS8XXi05qgWP"
      },
      "outputs": [],
      "source": [
        "import numpy as np"
      ]
    },
    {
      "cell_type": "code",
      "source": [
        "# Suma de matrices\n",
        "A = np.array([[1,2],[3,4]])\n",
        "B = np.array([[5,6],[7,8]])\n",
        "\n",
        "# Suma\n",
        "sum = A + B\n",
        "print(A)\n",
        "print(B)\n",
        "print(sum)"
      ],
      "metadata": {
        "colab": {
          "base_uri": "https://localhost:8080/"
        },
        "id": "nciY-HaVqn7V",
        "outputId": "76cfc13c-92d4-4fb9-c58b-f0a98cea5e30"
      },
      "execution_count": 3,
      "outputs": [
        {
          "output_type": "stream",
          "name": "stdout",
          "text": [
            "[[1 2]\n",
            " [3 4]]\n",
            "[[5 6]\n",
            " [7 8]]\n",
            "[[ 6  8]\n",
            " [10 12]]\n"
          ]
        }
      ]
    },
    {
      "cell_type": "code",
      "source": [
        "# multiplicación de matrices\n",
        "product = np.dot(A, B)\n",
        "print(product)"
      ],
      "metadata": {
        "colab": {
          "base_uri": "https://localhost:8080/"
        },
        "id": "RSlTj9doq7tY",
        "outputId": "16815046-6893-4727-8934-f5156aea90cc"
      },
      "execution_count": 4,
      "outputs": [
        {
          "output_type": "stream",
          "name": "stdout",
          "text": [
            "[[19 22]\n",
            " [43 50]]\n"
          ]
        }
      ]
    },
    {
      "cell_type": "code",
      "source": [
        "# Determinante o inversa de una matriz\n",
        "A = np.array([[1,2],[3,4]])\n",
        "det_A = np.linalg.det(A)\n",
        "inv_A = np.linalg.inv(A)\n",
        "print(A)\n",
        "print(det_A)\n",
        "print(inv_A)"
      ],
      "metadata": {
        "colab": {
          "base_uri": "https://localhost:8080/"
        },
        "id": "_xPTnjG7rOTm",
        "outputId": "c6566466-2cff-401a-9955-57e55ae87dbd"
      },
      "execution_count": 5,
      "outputs": [
        {
          "output_type": "stream",
          "name": "stdout",
          "text": [
            "[[1 2]\n",
            " [3 4]]\n",
            "-2.0000000000000004\n",
            "[[-2.   1. ]\n",
            " [ 1.5 -0.5]]\n"
          ]
        }
      ]
    },
    {
      "cell_type": "code",
      "source": [
        "# Resolución de sistema de ecuación Ax = b\n",
        "b = np.array([9,11])\n",
        "x = np.linalg.solve(A, b)\n",
        "print(x)"
      ],
      "metadata": {
        "colab": {
          "base_uri": "https://localhost:8080/"
        },
        "id": "7lTIyGDzrgcn",
        "outputId": "10ff0235-9233-438e-a4dc-87867cdb44e9"
      },
      "execution_count": 6,
      "outputs": [
        {
          "output_type": "stream",
          "name": "stdout",
          "text": [
            "[-7.  8.]\n"
          ]
        }
      ]
    }
  ]
}