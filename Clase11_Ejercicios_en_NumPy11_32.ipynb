{
  "nbformat": 4,
  "nbformat_minor": 0,
  "metadata": {
    "colab": {
      "provenance": [],
      "authorship_tag": "ABX9TyNuMT538DGCpuY7/h5ZIFGo",
      "include_colab_link": true
    },
    "kernelspec": {
      "name": "python3",
      "display_name": "Python 3"
    },
    "language_info": {
      "name": "python"
    }
  },
  "cells": [
    {
      "cell_type": "markdown",
      "metadata": {
        "id": "view-in-github",
        "colab_type": "text"
      },
      "source": [
        "<a href=\"https://colab.research.google.com/github/electrojam/Curso-de-Python-para-Ciencia-de-Datos/blob/main/Clase11_Ejercicios_en_NumPy11_32.ipynb\" target=\"_parent\"><img src=\"https://colab.research.google.com/assets/colab-badge.svg\" alt=\"Open In Colab\"/></a>"
      ]
    },
    {
      "cell_type": "code",
      "execution_count": 1,
      "metadata": {
        "id": "qVaxvmudtSAQ"
      },
      "outputs": [],
      "source": [
        "import numpy as np\n",
        "import pandas as pd\n",
        "import matplotlib.pyplot as plt"
      ]
    },
    {
      "cell_type": "markdown",
      "source": [
        "### 1. Operaciones Básicas con Arrays"
      ],
      "metadata": {
        "id": "Gh32BeHCuW6x"
      }
    },
    {
      "cell_type": "code",
      "source": [
        "array1 = np.array([10, 20, 30, 40])\n",
        "array2 = np.array([1, 2, 3, 4])\n",
        "\n",
        "suma = array1 + array2\n",
        "resta = array1 - array2\n",
        "multiplicacion = array1 * array2\n",
        "division = array1 / array2\n",
        "\n",
        "print(\"Suma: \",suma)\n",
        "print(\"Resta: \",resta)\n",
        "print(\"Multiplicación :\",multiplicacion)\n",
        "print(\"Dvisión :\", division)"
      ],
      "metadata": {
        "colab": {
          "base_uri": "https://localhost:8080/"
        },
        "id": "Y1hcJP3vtZq5",
        "outputId": "b0551fd8-926c-4d6c-c59f-654bd1587daa"
      },
      "execution_count": 8,
      "outputs": [
        {
          "output_type": "stream",
          "name": "stdout",
          "text": [
            "Suma:  [11 22 33 44]\n",
            "Resta:  [ 9 18 27 36]\n",
            "Multiplicación : [ 10  40  90 160]\n",
            "Dvisión : [10. 10. 10. 10.]\n"
          ]
        }
      ]
    },
    {
      "cell_type": "markdown",
      "source": [
        "### 2. Cálculos Estadísticos en Arrays\n",
        "\n"
      ],
      "metadata": {
        "id": "tEDxs_vPuZcQ"
      }
    },
    {
      "cell_type": "code",
      "source": [
        "datos = np.array([23, 76, 35, 67, 89, 45, 68, 79, 35])\n",
        "\n",
        "media = np.mean(datos)\n",
        "mediana = np.median(datos)\n",
        "varianza = np.var(datos)\n",
        "desviacion = np.std(datos)\n",
        "\n",
        "print(\"Media:\", media)\n",
        "print(\"Mediana:\", mediana)\n",
        "print(\"Varianza:\", varianza)\n",
        "print(\"Desviación estándar:\", desviacion)"
      ],
      "metadata": {
        "colab": {
          "base_uri": "https://localhost:8080/"
        },
        "id": "atFIDuR6udCo",
        "outputId": "93f5c4f1-11f0-419c-895d-f6a1ad249e70"
      },
      "execution_count": 13,
      "outputs": [
        {
          "output_type": "stream",
          "name": "stdout",
          "text": [
            "Media: 57.44444444444444\n",
            "Mediana: 67.0\n",
            "Varianza: 484.02469135802465\n",
            "Desviación estándar: 22.000561160071\n"
          ]
        }
      ]
    },
    {
      "cell_type": "markdown",
      "source": [
        "### 3. Operaciones Matriciales"
      ],
      "metadata": {
        "id": "aPffTIisvGH5"
      }
    },
    {
      "cell_type": "code",
      "source": [
        "matriz1 = np.array([[1,2], [3,4]])\n",
        "matriz2 = np.array([[3,4],[5,6]])\n",
        "\n",
        "suma_matrices = matriz1 + matriz2\n",
        "resta_matrices = matriz1 + matriz2\n",
        "producto_matrices = np.dot(matriz1, matriz2)\n",
        "inversa_matriz1 = np.linalg.inv(matriz1)\n",
        "\n",
        "print(\"Suma de matrices:\\n\", suma_matrices)\n",
        "print(\"Resta de matrices:\\n\", resta_matrices)\n",
        "print(\"Producto de matrices:\\n\", producto_matrices)\n",
        "print(\"Inversa de matriz1:\\n\", inversa_matriz1)"
      ],
      "metadata": {
        "colab": {
          "base_uri": "https://localhost:8080/"
        },
        "id": "mS1aHaKFvRAJ",
        "outputId": "3a57b70d-fefe-4893-a45d-0557603ff822"
      },
      "execution_count": 14,
      "outputs": [
        {
          "output_type": "stream",
          "name": "stdout",
          "text": [
            "Suma de matrices:\n",
            " [[ 4  6]\n",
            " [ 8 10]]\n",
            "Resta de matrices:\n",
            " [[ 4  6]\n",
            " [ 8 10]]\n",
            "Producto de matrices:\n",
            " [[13 16]\n",
            " [29 36]]\n",
            "Inversa de matriz1:\n",
            " [[-2.   1. ]\n",
            " [ 1.5 -0.5]]\n"
          ]
        }
      ]
    },
    {
      "cell_type": "markdown",
      "source": [
        "### 4. Resolución de un Sistema de Ecuaciones Lineales"
      ],
      "metadata": {
        "id": "TRGQ3nsQws39"
      }
    },
    {
      "cell_type": "code",
      "source": [
        "A = np.array([[2,3],[1,2]])\n",
        "b = np.array([8,5])\n",
        "\n",
        "x = np.linalg.solve(A, b)\n",
        "print(\"Solución del sistema de ecuaciones:\", x)"
      ],
      "metadata": {
        "colab": {
          "base_uri": "https://localhost:8080/"
        },
        "id": "CU7yUZyBwvGY",
        "outputId": "7275c03c-3206-48ba-8634-65cf0d3bac61"
      },
      "execution_count": 15,
      "outputs": [
        {
          "output_type": "stream",
          "name": "stdout",
          "text": [
            "Solución del sistema de ecuaciones: [1. 2.]\n"
          ]
        }
      ]
    },
    {
      "cell_type": "markdown",
      "source": [
        "### 5. Simulación de Datos\n",
        "Instrucción: Genera un array de 1000 números aleatorios que sigan una distribución normal con media 0 y desviación estándar 1. Calcula la media y desviación estándar del array generado."
      ],
      "metadata": {
        "id": "sgfICchtxBE-"
      }
    },
    {
      "cell_type": "code",
      "source": [
        "datos_simulados = np.random.normal(0, 1, 1000)\n",
        "media_simulada = np.median(datos_simulados)\n",
        "desviacion_simulada = np.std(datos_simulados)\n",
        "\n",
        "print(\"Media de los datos simulados:\", media_simulada)\n",
        "print(\"Desviación estándar de los datos simulados:\", desviacion_simulada)"
      ],
      "metadata": {
        "colab": {
          "base_uri": "https://localhost:8080/"
        },
        "id": "VBeCZUesxCjK",
        "outputId": "8000695c-5249-4204-e2b5-c5011204b3ad"
      },
      "execution_count": 16,
      "outputs": [
        {
          "output_type": "stream",
          "name": "stdout",
          "text": [
            "Media de los datos simulados: -0.03325040683141543\n",
            "Desviación estándar de los datos simulados: 0.9702230084078913\n"
          ]
        }
      ]
    }
  ]
}