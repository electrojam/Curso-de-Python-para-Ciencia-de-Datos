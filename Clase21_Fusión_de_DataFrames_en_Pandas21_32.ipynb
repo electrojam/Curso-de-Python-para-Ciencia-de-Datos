{
  "nbformat": 4,
  "nbformat_minor": 0,
  "metadata": {
    "colab": {
      "provenance": [],
      "authorship_tag": "ABX9TyM2bBUkagiQUMe6Xkh1arwc",
      "include_colab_link": true
    },
    "kernelspec": {
      "name": "python3",
      "display_name": "Python 3"
    },
    "language_info": {
      "name": "python"
    }
  },
  "cells": [
    {
      "cell_type": "markdown",
      "metadata": {
        "id": "view-in-github",
        "colab_type": "text"
      },
      "source": [
        "<a href=\"https://colab.research.google.com/github/electrojam/Curso-de-Python-para-Ciencia-de-Datos/blob/main/Clase21_Fusi%C3%B3n_de_DataFrames_en_Pandas21_32.ipynb\" target=\"_parent\"><img src=\"https://colab.research.google.com/assets/colab-badge.svg\" alt=\"Open In Colab\"/></a>"
      ]
    },
    {
      "cell_type": "code",
      "execution_count": 1,
      "metadata": {
        "id": "BnxuSgcXfyi5"
      },
      "outputs": [],
      "source": [
        "import pandas as pd"
      ]
    },
    {
      "cell_type": "code",
      "source": [
        "# Crear DataFrames de ejemplo\n",
        "df1 = pd.DataFrame({\n",
        "    'key': ['A','B','C'],\n",
        "    'value1' : [1,2,3]\n",
        "})\n",
        "\n",
        "df2 = pd.DataFrame({\n",
        "    'key': ['B','C','D'],\n",
        "    'value2': [4,5,6]\n",
        "})\n",
        "\n",
        "print(df1)\n",
        "print(df2)"
      ],
      "metadata": {
        "colab": {
          "base_uri": "https://localhost:8080/"
        },
        "id": "BjW3GD9ff_24",
        "outputId": "cbbdd2e8-fa13-4135-a2ae-d38322bdb673"
      },
      "execution_count": 3,
      "outputs": [
        {
          "output_type": "stream",
          "name": "stdout",
          "text": [
            "  key  value1\n",
            "0   A       1\n",
            "1   B       2\n",
            "2   C       3\n",
            "  key  value2\n",
            "0   B       4\n",
            "1   C       5\n",
            "2   D       6\n"
          ]
        }
      ]
    },
    {
      "cell_type": "markdown",
      "source": [
        "#### Join mediante **Merge**\n",
        "Merge se tiene en cuenta los valores de una columna para el join, en este caso 'key'"
      ],
      "metadata": {
        "id": "M3RPkjNrooNa"
      }
    },
    {
      "cell_type": "code",
      "source": [
        "# Inner Join\n",
        "inner_merged = pd.merge(df1, df2, how='inner', on='key')\n",
        "print(inner_merged)"
      ],
      "metadata": {
        "colab": {
          "base_uri": "https://localhost:8080/"
        },
        "id": "-5TnbTgkjJZM",
        "outputId": "aec7a476-3a88-4288-b564-75c7b9e77702"
      },
      "execution_count": 8,
      "outputs": [
        {
          "output_type": "stream",
          "name": "stdout",
          "text": [
            "  key  value1  value2\n",
            "0   B       2       4\n",
            "1   C       3       5\n"
          ]
        }
      ]
    },
    {
      "cell_type": "code",
      "source": [
        "# Outer Join\n",
        "outer_join = pd.merge(df1, df2, how='outer', on='key' )\n",
        "print(outer_join)"
      ],
      "metadata": {
        "colab": {
          "base_uri": "https://localhost:8080/"
        },
        "id": "iT6NfUT0lTsD",
        "outputId": "1710da7c-8ef3-489e-cf85-b5e497894a40"
      },
      "execution_count": 7,
      "outputs": [
        {
          "output_type": "stream",
          "name": "stdout",
          "text": [
            "  key  value1  value2\n",
            "0   A     1.0     NaN\n",
            "1   B     2.0     4.0\n",
            "2   C     3.0     5.0\n",
            "3   D     NaN     6.0\n"
          ]
        }
      ]
    },
    {
      "cell_type": "code",
      "source": [
        "# Left Join\n",
        "left_merge = pd.merge(df1, df2, how='left', on='key')\n",
        "print(left_merge)"
      ],
      "metadata": {
        "colab": {
          "base_uri": "https://localhost:8080/"
        },
        "id": "jHJZO_cRmnF_",
        "outputId": "9b7ef8ce-7059-4903-b3dc-6bfb8f18dc63"
      },
      "execution_count": 9,
      "outputs": [
        {
          "output_type": "stream",
          "name": "stdout",
          "text": [
            "  key  value1  value2\n",
            "0   A       1     NaN\n",
            "1   B       2     4.0\n",
            "2   C       3     5.0\n"
          ]
        }
      ]
    },
    {
      "cell_type": "code",
      "source": [
        "# Right Join\n",
        "right_merge = pd.merge(df1, df2, how='right', on='key')\n",
        "print(right_merge)"
      ],
      "metadata": {
        "colab": {
          "base_uri": "https://localhost:8080/"
        },
        "id": "JNfME_uon6Vw",
        "outputId": "765569e7-0a20-4042-bea4-1c6a4a0a517d"
      },
      "execution_count": 10,
      "outputs": [
        {
          "output_type": "stream",
          "name": "stdout",
          "text": [
            "  key  value1  value2\n",
            "0   B     2.0       4\n",
            "1   C     3.0       5\n",
            "2   D     NaN       6\n"
          ]
        }
      ]
    },
    {
      "cell_type": "markdown",
      "source": [
        "#### **Concatenate**"
      ],
      "metadata": {
        "id": "rrDspx5moxBx"
      }
    },
    {
      "cell_type": "code",
      "source": [
        "df3 = pd.DataFrame({\n",
        "    'A': ['A0','A1','A2'],\n",
        "    'B': ['B0','B1','B2']\n",
        "})\n",
        "\n",
        "df4 = pd.DataFrame({\n",
        "    'A': ['A3','A4','A5'],\n",
        "    'B': ['B3','B4','B5']\n",
        "})\n",
        "\n",
        "print(df3,'\\n')\n",
        "print(df4)"
      ],
      "metadata": {
        "colab": {
          "base_uri": "https://localhost:8080/"
        },
        "id": "fBjUbJBxoHW_",
        "outputId": "22764ba6-ecb0-42d6-e34f-4c2f460c51ed"
      },
      "execution_count": 12,
      "outputs": [
        {
          "output_type": "stream",
          "name": "stdout",
          "text": [
            "    A   B\n",
            "0  A0  B0\n",
            "1  A1  B1\n",
            "2  A2  B2 \n",
            "\n",
            "    A   B\n",
            "0  A3  B3\n",
            "1  A4  B4\n",
            "2  A5  B5\n"
          ]
        }
      ]
    },
    {
      "cell_type": "markdown",
      "source": [
        "#### Join mediante **Join**\n",
        "join se tienen en cuenta los índices de los df para hacer el join, en este caso K0, K1, K2 del df5 y K0, K2, K3 del df6."
      ],
      "metadata": {
        "id": "-89FE0cQtmGW"
      }
    },
    {
      "cell_type": "code",
      "source": [
        "df5 = pd.DataFrame({\n",
        "    'A': ['A0','A1','A2'],\n",
        "    'B': ['B0','B1','B2']\n",
        "}, index=['K0','K1','K2'])\n",
        "\n",
        "df6 = pd.DataFrame({\n",
        "    'C': ['C0','C1','C2'],\n",
        "    'D': ['D0','D1','D2']\n",
        "}, index=['K0','K2','K3'])\n",
        "\n",
        "print(df5, '\\n')\n",
        "print(df6)"
      ],
      "metadata": {
        "colab": {
          "base_uri": "https://localhost:8080/"
        },
        "id": "EJI06LQMpXl5",
        "outputId": "2e8c0599-cb0c-4b47-ebac-7dd8d00ff449"
      },
      "execution_count": 13,
      "outputs": [
        {
          "output_type": "stream",
          "name": "stdout",
          "text": [
            "     A   B\n",
            "K0  A0  B0\n",
            "K1  A1  B1\n",
            "K2  A2  B2 \n",
            "\n",
            "     C   D\n",
            "K0  C0  D0\n",
            "K2  C1  D1\n",
            "K3  C2  D2\n"
          ]
        }
      ]
    },
    {
      "cell_type": "code",
      "source": [
        "# Join especificando índices\n",
        "joined = df5.join(df6, how='inner')\n",
        "print(joined)"
      ],
      "metadata": {
        "colab": {
          "base_uri": "https://localhost:8080/"
        },
        "id": "QFf-MlawuIz3",
        "outputId": "64ffba6f-ba07-41f4-8c93-6e5d20810908"
      },
      "execution_count": 14,
      "outputs": [
        {
          "output_type": "stream",
          "name": "stdout",
          "text": [
            "     A   B   C   D\n",
            "K0  A0  B0  C0  D0\n",
            "K2  A2  B2  C1  D1\n"
          ]
        }
      ]
    },
    {
      "cell_type": "markdown",
      "source": [
        "### Reto\n",
        "Hacer merge entre df retail_data y world_poblation\n",
        "https://github.com/bnokoro/Data-Science/blob/7fe6edb692afbb6494694c2601c5c554522ea742/countries%20of%20the%20world.csv"
      ],
      "metadata": {
        "id": "aeoEbVuY0iFL"
      }
    },
    {
      "cell_type": "code",
      "source": [
        "world_population = pd.read_csv('https://raw.githubusercontent.com/manya-gangoli/World-Population-2024-EDA-and-prediction/refs/heads/main/World%20Population%20by%20country%202024.csv')\n",
        "print(world_population)"
      ],
      "metadata": {
        "colab": {
          "base_uri": "https://localhost:8080/"
        },
        "id": "1YzWcImVvgFH",
        "outputId": "325e9750-4f65-4114-bf60-04502a5f9ed3"
      },
      "execution_count": 62,
      "outputs": [
        {
          "output_type": "stream",
          "name": "stdout",
          "text": [
            "              Country  Population 2024  Population 2023 Area (km2)  \\\n",
            "0               India       1441719852       1428627663         3M   \n",
            "1               China       1425178782       1425671352       9.4M   \n",
            "2       United States        341814420        339996563       9.1M   \n",
            "3           Indonesia        279798049        277534122       1.9M   \n",
            "4            Pakistan        245209815        240485658     770.9K   \n",
            "..                ...              ...              ...        ...   \n",
            "229        Montserrat             4372             4386        102   \n",
            "230  Falkland Islands             3803             3791      12.2K   \n",
            "231              Niue             1935             1935        261   \n",
            "232           Tokelau             1915             1893         10   \n",
            "233      Vatican City              526              518        < 1   \n",
            "\n",
            "     Density (/km2)  Growth Rate  World %  World Rank  \n",
            "0            485.00       0.0092   0.1801           1  \n",
            "1            151.00      -0.0003   0.1780           2  \n",
            "2             37.00       0.0053   0.0427           3  \n",
            "3            149.00       0.0082   0.0350           4  \n",
            "4            318.00       0.0196   0.0306           5  \n",
            "..              ...          ...      ...         ...  \n",
            "229           43.00      -0.0032      NaN         230  \n",
            "230            0.31       0.0032      NaN         231  \n",
            "231            7.00       0.0000      NaN         232  \n",
            "232          192.00       0.0116      NaN         233  \n",
            "233         1195.00       0.0154      NaN         234  \n",
            "\n",
            "[234 rows x 8 columns]\n"
          ]
        }
      ]
    },
    {
      "cell_type": "code",
      "source": [
        "retail_data = pd.read_csv('https://raw.githubusercontent.com/databricks/Spark-The-Definitive-Guide/refs/heads/master/data/retail-data/all/online-retail-dataset.csv')\n",
        "print(retail_data)"
      ],
      "metadata": {
        "colab": {
          "base_uri": "https://localhost:8080/"
        },
        "id": "6alrA0bwSG4K",
        "outputId": "c1ce67ef-9a8d-4d03-fcf4-59911a1979af"
      },
      "execution_count": 63,
      "outputs": [
        {
          "output_type": "stream",
          "name": "stdout",
          "text": [
            "       InvoiceNo StockCode                          Description  Quantity  \\\n",
            "0         536365    85123A   WHITE HANGING HEART T-LIGHT HOLDER         6   \n",
            "1         536365     71053                  WHITE METAL LANTERN         6   \n",
            "2         536365    84406B       CREAM CUPID HEARTS COAT HANGER         8   \n",
            "3         536365    84029G  KNITTED UNION FLAG HOT WATER BOTTLE         6   \n",
            "4         536365    84029E       RED WOOLLY HOTTIE WHITE HEART.         6   \n",
            "...          ...       ...                                  ...       ...   \n",
            "541904    581587     22613          PACK OF 20 SPACEBOY NAPKINS        12   \n",
            "541905    581587     22899         CHILDREN'S APRON DOLLY GIRL          6   \n",
            "541906    581587     23254        CHILDRENS CUTLERY DOLLY GIRL          4   \n",
            "541907    581587     23255      CHILDRENS CUTLERY CIRCUS PARADE         4   \n",
            "541908    581587     22138        BAKING SET 9 PIECE RETROSPOT          3   \n",
            "\n",
            "            InvoiceDate  UnitPrice  CustomerID         Country  \n",
            "0        12/1/2010 8:26       2.55     17850.0  United Kingdom  \n",
            "1        12/1/2010 8:26       3.39     17850.0  United Kingdom  \n",
            "2        12/1/2010 8:26       2.75     17850.0  United Kingdom  \n",
            "3        12/1/2010 8:26       3.39     17850.0  United Kingdom  \n",
            "4        12/1/2010 8:26       3.39     17850.0  United Kingdom  \n",
            "...                 ...        ...         ...             ...  \n",
            "541904  12/9/2011 12:50       0.85     12680.0          France  \n",
            "541905  12/9/2011 12:50       2.10     12680.0          France  \n",
            "541906  12/9/2011 12:50       4.15     12680.0          France  \n",
            "541907  12/9/2011 12:50       4.15     12680.0          France  \n",
            "541908  12/9/2011 12:50       4.95     12680.0          France  \n",
            "\n",
            "[541909 rows x 8 columns]\n"
          ]
        }
      ]
    },
    {
      "cell_type": "code",
      "source": [
        "world_population.columns"
      ],
      "metadata": {
        "colab": {
          "base_uri": "https://localhost:8080/"
        },
        "id": "TZGNoxUi8Vsl",
        "outputId": "fb456b20-f39b-46d8-d6ef-8a26d184f757"
      },
      "execution_count": 28,
      "outputs": [
        {
          "output_type": "execute_result",
          "data": {
            "text/plain": [
              "Index(['Country', 'Population 2024', 'Population 2023', 'Area (km2)',\n",
              "       'Density (/km2)', 'Growth Rate', 'World %', 'World Rank'],\n",
              "      dtype='object')"
            ]
          },
          "metadata": {},
          "execution_count": 28
        }
      ]
    },
    {
      "cell_type": "code",
      "source": [
        " # verificamos si hay nombre de 'Country' repetidos\n",
        "count_country_duplicate = pd.DataFrame(world_population['Country'].value_counts())\n",
        "print(count_country_duplicate.loc[count_country_duplicate['count'] > 1])\n"
      ],
      "metadata": {
        "colab": {
          "base_uri": "https://localhost:8080/"
        },
        "id": "LyJKmRbO01nM",
        "outputId": "0bd3c722-5ec2-4d07-b2df-ae4ac7516929"
      },
      "execution_count": 32,
      "outputs": [
        {
          "output_type": "stream",
          "name": "stdout",
          "text": [
            "Empty DataFrame\n",
            "Columns: [count]\n",
            "Index: []\n"
          ]
        }
      ]
    },
    {
      "cell_type": "code",
      "source": [
        "# filtramos columnas 'Country' y 'Population 2024'\n",
        "country_population = world_population[['Country', 'Population 2024']]\n",
        "print(country_population)"
      ],
      "metadata": {
        "colab": {
          "base_uri": "https://localhost:8080/"
        },
        "id": "R8RuICPk4Jp1",
        "outputId": "0efcb5c4-7775-42ea-9bd0-9ea94e07fae8"
      },
      "execution_count": 64,
      "outputs": [
        {
          "output_type": "stream",
          "name": "stdout",
          "text": [
            "              Country  Population 2024\n",
            "0               India       1441719852\n",
            "1               China       1425178782\n",
            "2       United States        341814420\n",
            "3           Indonesia        279798049\n",
            "4            Pakistan        245209815\n",
            "..                ...              ...\n",
            "229        Montserrat             4372\n",
            "230  Falkland Islands             3803\n",
            "231              Niue             1935\n",
            "232           Tokelau             1915\n",
            "233      Vatican City              526\n",
            "\n",
            "[234 rows x 2 columns]\n"
          ]
        }
      ]
    },
    {
      "cell_type": "code",
      "source": [
        "# Hacer left join con merge\n",
        "\n",
        "left_merge_join = pd.merge(retail_data, country_population, how='inner', on='Country')\n",
        "print(left_merge_join)"
      ],
      "metadata": {
        "colab": {
          "base_uri": "https://localhost:8080/"
        },
        "id": "eqoPtDs3QkvI",
        "outputId": "1c8821a6-f05f-4698-b8f5-15790392151c"
      },
      "execution_count": 54,
      "outputs": [
        {
          "output_type": "stream",
          "name": "stdout",
          "text": [
            "       InvoiceNo StockCode                          Description  Quantity  \\\n",
            "0         536365    85123A   WHITE HANGING HEART T-LIGHT HOLDER         6   \n",
            "1         536365     71053                  WHITE METAL LANTERN         6   \n",
            "2         536365    84406B       CREAM CUPID HEARTS COAT HANGER         8   \n",
            "3         536365    84029G  KNITTED UNION FLAG HOT WATER BOTTLE         6   \n",
            "4         536365    84029E       RED WOOLLY HOTTIE WHITE HEART.         6   \n",
            "...          ...       ...                                  ...       ...   \n",
            "532094   C579929     22768           FAMILY PHOTO FRAME CORNICE        -2   \n",
            "532095   C579929    85034C          3 ROSE MORRIS BOXED CANDLES        -1   \n",
            "532096   C579929    72807C  SET/3 VANILLA SCENTED CANDLE IN BOX        -1   \n",
            "532097   C579929     22307     GOLD MUG BONE CHINA TREE OF LIFE        -1   \n",
            "532098   C579929     72741                GRAND CHOCOLATECANDLE        -3   \n",
            "\n",
            "           InvoiceDate  UnitPrice  CustomerID         Country  Population 2024  \n",
            "0       12/1/2010 8:26       2.55     17850.0  United Kingdom         67961439  \n",
            "1       12/1/2010 8:26       3.39     17850.0  United Kingdom         67961439  \n",
            "2       12/1/2010 8:26       2.75     17850.0  United Kingdom         67961439  \n",
            "3       12/1/2010 8:26       3.39     17850.0  United Kingdom         67961439  \n",
            "4       12/1/2010 8:26       3.39     17850.0  United Kingdom         67961439  \n",
            "...                ...        ...         ...             ...              ...  \n",
            "532094  12/1/2011 9:34       9.95     17828.0           Malta           536740  \n",
            "532095  12/1/2011 9:34       1.25     17828.0           Malta           536740  \n",
            "532096  12/1/2011 9:34       4.25     17828.0           Malta           536740  \n",
            "532097  12/1/2011 9:34       1.06     17828.0           Malta           536740  \n",
            "532098  12/1/2011 9:34       1.45     17828.0           Malta           536740  \n",
            "\n",
            "[532099 rows x 9 columns]\n"
          ]
        }
      ]
    },
    {
      "cell_type": "code",
      "source": [],
      "metadata": {
        "id": "5CLookBjTBxh"
      },
      "execution_count": null,
      "outputs": []
    }
  ]
}