{
  "nbformat": 4,
  "nbformat_minor": 0,
  "metadata": {
    "colab": {
      "provenance": [],
      "authorship_tag": "ABX9TyMBFfJIGicFrORBO0vE4TK2",
      "include_colab_link": true
    },
    "kernelspec": {
      "name": "python3",
      "display_name": "Python 3"
    },
    "language_info": {
      "name": "python"
    }
  },
  "cells": [
    {
      "cell_type": "markdown",
      "metadata": {
        "id": "view-in-github",
        "colab_type": "text"
      },
      "source": [
        "<a href=\"https://colab.research.google.com/github/electrojam/Curso-de-Python-para-Ciencia-de-Datos/blob/main/Clase5_Indexaci%C3%B3n_y_Slicing5_32.ipynb\" target=\"_parent\"><img src=\"https://colab.research.google.com/assets/colab-badge.svg\" alt=\"Open In Colab\"/></a>"
      ]
    },
    {
      "cell_type": "code",
      "execution_count": 19,
      "metadata": {
        "id": "_SrJ7BlD8Dp7"
      },
      "outputs": [],
      "source": [
        "import numpy as np"
      ]
    },
    {
      "cell_type": "code",
      "source": [
        "# segunda y última posición de un array\n",
        "array = np.array([10, 20, 30, 40, 50])\n",
        "print(array[1])\n",
        "print(array[-1])"
      ],
      "metadata": {
        "colab": {
          "base_uri": "https://localhost:8080/"
        },
        "id": "cfM0gnKOjrYo",
        "outputId": "7c9d3a9a-1980-45e5-f5e4-fd50c8e18d2e"
      },
      "execution_count": 20,
      "outputs": [
        {
          "output_type": "stream",
          "name": "stdout",
          "text": [
            "20\n",
            "50\n"
          ]
        }
      ]
    },
    {
      "cell_type": "code",
      "source": [
        "# segunda y tercera posición de un array\n",
        "print(array[1:4])"
      ],
      "metadata": {
        "colab": {
          "base_uri": "https://localhost:8080/"
        },
        "id": "vHNgnGysjzwY",
        "outputId": "a7c8c248-67b7-4eda-ee1a-b9c8d5643db1"
      },
      "execution_count": 21,
      "outputs": [
        {
          "output_type": "stream",
          "name": "stdout",
          "text": [
            "[20 30 40]\n"
          ]
        }
      ]
    },
    {
      "cell_type": "code",
      "source": [
        "# segunda y posici´n más allá del último elemento del array\n",
        "print(array[1:7])"
      ],
      "metadata": {
        "colab": {
          "base_uri": "https://localhost:8080/"
        },
        "id": "4iA2WOeoj70Q",
        "outputId": "40f3217d-5e07-4283-ca19-5514eb42f0c6"
      },
      "execution_count": 22,
      "outputs": [
        {
          "output_type": "stream",
          "name": "stdout",
          "text": [
            "[20 30 40 50]\n"
          ]
        }
      ]
    },
    {
      "cell_type": "code",
      "source": [
        "# posiciones por fuera del array\n",
        "print(array[-1:-7])"
      ],
      "metadata": {
        "colab": {
          "base_uri": "https://localhost:8080/"
        },
        "id": "6H6TvCw0kF9x",
        "outputId": "c4e8d9c4-7214-4c1e-8832-c958c7d45d5d"
      },
      "execution_count": 23,
      "outputs": [
        {
          "output_type": "stream",
          "name": "stdout",
          "text": [
            "[]\n"
          ]
        }
      ]
    },
    {
      "cell_type": "code",
      "source": [
        "# verificar si valores en array son mayores que\n",
        "array = np.array([10, 20, 30, 40, 50])\n",
        "bool_index = array > 25\n",
        "print(bool_index)\n",
        "print(type(bool_index))"
      ],
      "metadata": {
        "colab": {
          "base_uri": "https://localhost:8080/"
        },
        "id": "s-u9BSvTkLWQ",
        "outputId": "487d0023-f3d7-45d8-8cca-4e3164498e08"
      },
      "execution_count": 24,
      "outputs": [
        {
          "output_type": "stream",
          "name": "stdout",
          "text": [
            "[False False  True  True  True]\n",
            "<class 'numpy.ndarray'>\n"
          ]
        }
      ]
    },
    {
      "cell_type": "code",
      "source": [
        "# posiciones mediante variable que tiene los índices de las posiciones\n",
        "index = [2,0,3]\n",
        "print(array[index])"
      ],
      "metadata": {
        "colab": {
          "base_uri": "https://localhost:8080/"
        },
        "id": "OkX5QYYUknKR",
        "outputId": "bfbec8f5-2c62-4648-88dc-b31df18b0dc6"
      },
      "execution_count": 25,
      "outputs": [
        {
          "output_type": "stream",
          "name": "stdout",
          "text": [
            "[30 10 40]\n"
          ]
        }
      ]
    },
    {
      "cell_type": "code",
      "source": [
        "# generar matriz 3x3 con númertos aleatorios\n",
        "array = np.random.randint(1, 10, size=(3,3))\n",
        "print(array)\n",
        "print(array[0,1]) # miramos valor en posición 0,1"
      ],
      "metadata": {
        "colab": {
          "base_uri": "https://localhost:8080/"
        },
        "id": "M3YyyFGIlZrS",
        "outputId": "97f39ff1-3d6f-4fd8-8085-9df6000a50a0"
      },
      "execution_count": 26,
      "outputs": [
        {
          "output_type": "stream",
          "name": "stdout",
          "text": [
            "[[6 5 5]\n",
            " [2 2 8]\n",
            " [4 4 4]]\n",
            "5\n"
          ]
        }
      ]
    },
    {
      "cell_type": "code",
      "source": [
        "# formamos un pequeño array (matriz) del array  (matriz) anterior\n",
        "print(array[:2,:2])"
      ],
      "metadata": {
        "colab": {
          "base_uri": "https://localhost:8080/"
        },
        "id": "9dFClQF7mYN7",
        "outputId": "19766276-cf74-42ae-b3ea-c6442125f7ba"
      },
      "execution_count": 27,
      "outputs": [
        {
          "output_type": "stream",
          "name": "stdout",
          "text": [
            "[[6 5]\n",
            " [2 2]]\n"
          ]
        }
      ]
    },
    {
      "cell_type": "code",
      "source": [],
      "metadata": {
        "id": "uuLg_7flmtIS"
      },
      "execution_count": 27,
      "outputs": []
    }
  ]
}